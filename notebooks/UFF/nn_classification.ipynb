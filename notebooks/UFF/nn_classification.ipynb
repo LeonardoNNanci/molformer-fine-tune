{
 "cells": [
  {
   "cell_type": "code",
   "execution_count": null,
   "metadata": {},
   "outputs": [],
   "source": [
    "import pandas as pd\n",
    "\n",
    "import torch\n",
    "from torch import optim\n",
    "from torch.utils.data import Dataset, DataLoader\n",
    "from torch.utils.tensorboard import SummaryWriter\n",
    "\n",
    "from sklearn.utils.class_weight import compute_class_weight\n",
    "import seaborn as sns\n",
    "from common import *"
   ]
  },
  {
   "cell_type": "markdown",
   "metadata": {},
   "source": [
    "#### Load data"
   ]
  },
  {
   "cell_type": "code",
   "execution_count": null,
   "metadata": {},
   "outputs": [],
   "source": [
    "train_data = pd.read_csv(\"../../data/ld50/train.csv\")\n",
    "test_data = pd.read_csv(\"../../data/ld50/test.csv\")\n",
    "\n",
    "Y_train = train_data[\"Class\"]\n",
    "Y_test = test_data[\"Class\"]\n",
    "\n",
    "X_train = pd.read_csv(\"train_embeddings.csv\")\n",
    "X_test = pd.read_csv(\"test_embeddings.csv\")\n",
    "\n",
    "X_train.describe(), Y_train.describe()\n",
    "\n",
    "counts = Y_test.value_counts().sort_index()\n",
    "counts.index = class_labels = [\"Alto\", \"Moderado\", \"Leve\", \"Desprezível\"][::-1]\n",
    "\n",
    "sns.barplot(counts)"
   ]
  },
  {
   "cell_type": "markdown",
   "metadata": {},
   "source": [
    "#### Load model and extend layers"
   ]
  },
  {
   "cell_type": "code",
   "execution_count": null,
   "metadata": {},
   "outputs": [],
   "source": [
    "head = torch.nn.Sequential(\n",
    "            torch.nn.Linear(768, 1024),\n",
    "            torch.nn.BatchNorm1d(1024),\n",
    "            torch.nn.LeakyReLU(),\n",
    "            torch.nn.Linear(1024, 1024),\n",
    "            torch.nn.BatchNorm1d(1024),\n",
    "            torch.nn.LeakyReLU(),\n",
    "            torch.nn.Linear(1024, 4)\n",
    "        )"
   ]
  },
  {
   "cell_type": "markdown",
   "metadata": {},
   "source": [
    "#### Full model training"
   ]
  },
  {
   "cell_type": "code",
   "execution_count": null,
   "metadata": {},
   "outputs": [],
   "source": [
    "class SmilesDataset(Dataset):\n",
    "    def __init__(self, x: pd.DataFrame, y: pd.Series):\n",
    "        self.X = x\n",
    "        self.Y = y\n",
    "\n",
    "    def __len__(self):\n",
    "        return len(self.Y)\n",
    "    \n",
    "    def __getitem__(self, index: int):\n",
    "        x = torch.tensor(self.X.iloc[index].values).float()\n",
    "        y = torch.tensor(self.Y.iloc[index]).long()\n",
    "        return x, y\n",
    "\n",
    "train_dataset = SmilesDataset(X_train, Y_train)\n",
    "test_dataset = SmilesDataset(X_test, Y_test)\n",
    "train_dataloader = DataLoader(train_dataset, batch_size=32, shuffle=True)\n",
    "test_dataloader = DataLoader(test_dataset, batch_size=32, shuffle=True)"
   ]
  },
  {
   "cell_type": "code",
   "execution_count": null,
   "metadata": {},
   "outputs": [],
   "source": [
    "class_weights = compute_class_weight(class_weight='balanced', classes=Y_train.unique(), y=Y_train.values)\n",
    "\n",
    "optimizer = optim.Adam(head.parameters(), lr=12e-5)\n",
    "criterion = torch.nn.CrossEntropyLoss(weight=torch.tensor(class_weights).float())\n",
    "num_epochs = 200\n",
    "\n",
    "writer = SummaryWriter()\n",
    "\n",
    "for epoch_index in range(num_epochs):\n",
    "    running_loss = 0.\n",
    "    last_loss = 0.\n",
    "\n",
    "    # Here, we use enumerate(training_loader) instead of\n",
    "    # iter(training_loader) so that we can track the batch\n",
    "    # index and do some intra-epoch reporting\n",
    "    for i, data in enumerate(train_dataloader):\n",
    "        if i == 0:\n",
    "            running_loss = 0.\n",
    "        # Every data instance is an input + label pair\n",
    "        inputs, labels = data\n",
    "\n",
    "        # Zero your gradients for every batch!\n",
    "        optimizer.zero_grad()\n",
    "\n",
    "        # Make predictions for this batch\n",
    "        outputs = head(inputs)\n",
    "\n",
    "        # Compute the loss and its gradients\n",
    "        loss = criterion(outputs, labels)\n",
    "        loss.backward()\n",
    "\n",
    "        # Adjust learning weights\n",
    "        optimizer.step()\n",
    "\n",
    "        # Gather data and report\n",
    "        running_loss += loss.item()\n",
    "\n",
    "    train_loss = running_loss / len(train_dataloader) # loss per batch\n",
    "    writer.add_scalar('Train/loss', train_loss)\n",
    "\n",
    "    test_loss = 0.\n",
    "    head.eval()\n",
    "    with torch.no_grad():\n",
    "        for data in test_dataloader:\n",
    "            inputs, labels = data\n",
    "            outputs = head(inputs)\n",
    "            loss = criterion(outputs, labels.float().unsqueeze(-1))\n",
    "            test_loss += loss.item()\n",
    "    head.train()\n",
    "    test_loss /= len(test_dataloader)\n",
    "    writer.add_scalar('Test/loss', train_loss)"
   ]
  },
  {
   "cell_type": "code",
   "execution_count": null,
   "metadata": {},
   "outputs": [],
   "source": [
    "# 5min13s\n",
    "from datetime import datetime\n",
    "torch.save(head.state_dict(), f\"nn_model_classification_{datetime.now().isoformat()}\")"
   ]
  },
  {
   "cell_type": "code",
   "execution_count": null,
   "metadata": {},
   "outputs": [],
   "source": [
    "inputs = torch.tensor(X_test.values).float()\n",
    "outputs = head(inputs)\n",
    "pred = torch.nn.Softmax()(outputs)\n",
    "pred = pred.argmax(axis=1)\n",
    "\n",
    "import numpy as np\n",
    "import seaborn as sns\n",
    "from sklearn.metrics import r2_score\n",
    "matrix = np.zeros((4, 4), dtype=np.float64)\n",
    "for i, (p, t) in enumerate(zip(pred, Y_test)):\n",
    "    matrix[t, p] += 1\n",
    "\n",
    "annot = np.copy(matrix)\n",
    "for i, count in enumerate(Y_test.value_counts().sort_index()):\n",
    "    matrix[i] /= count\n",
    "\n",
    "sns.heatmap(matrix, cmap='coolwarm', robust=True, annot=annot, fmt='g', xticklabels=class_labels, yticklabels=class_labels).set_title(\"Matriz de confusão\")\n",
    "\n",
    "from sklearn.metrics import classification_report\n",
    "print(classification_report(Y_test.values, pred))"
   ]
  }
 ],
 "metadata": {
  "kernelspec": {
   "display_name": "MoLFormer",
   "language": "python",
   "name": "python3"
  },
  "language_info": {
   "codemirror_mode": {
    "name": "ipython",
    "version": 3
   },
   "file_extension": ".py",
   "mimetype": "text/x-python",
   "name": "python",
   "nbconvert_exporter": "python",
   "pygments_lexer": "ipython3",
   "version": "3.8.19"
  }
 },
 "nbformat": 4,
 "nbformat_minor": 2
}
