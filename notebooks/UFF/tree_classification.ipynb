{
 "cells": [
  {
   "cell_type": "code",
   "execution_count": 1,
   "metadata": {},
   "outputs": [],
   "source": [
    "import pandas as pd\n",
    "\n",
    "import xgboost as xgb\n",
    "\n",
    "import seaborn as sns\n",
    "\n",
    "import optuna\n",
    "import optuna_integration\n",
    "\n",
    "from sklearn.metrics import roc_auc_score\n",
    "\n",
    "from math import sqrt\n",
    "\n",
    "from datetime import datetime"
   ]
  },
  {
   "cell_type": "markdown",
   "metadata": {},
   "source": [
    "#### Load data"
   ]
  },
  {
   "cell_type": "code",
   "execution_count": 2,
   "metadata": {},
   "outputs": [],
   "source": [
    "Y_train = pd.read_csv(\"../../data/ld50/train.csv\")[\"Class\"]\n",
    "Y_test = pd.read_csv(\"../../data/ld50/test.csv\")[\"Class\"]\n",
    "Y_valid = pd.read_csv(\"../../data/ld50/valid.csv\")[\"Class\"]\n",
    "\n",
    "X_train = pd.read_csv(\"train_embeddings.csv\")\n",
    "X_test = pd.read_csv(\"test_embeddings.csv\")\n",
    "X_valid = pd.read_csv(\"valid_embeddings.csv\")\n",
    "\n",
    "class_labels = [\"Alto\", \"Moderado\", \"Leve\", \"Desprezível\"][::-1]"
   ]
  },
  {
   "cell_type": "markdown",
   "metadata": {},
   "source": [
    "#### Train"
   ]
  },
  {
   "cell_type": "code",
   "execution_count": 3,
   "metadata": {},
   "outputs": [],
   "source": [
    "from sklearn.utils.class_weight import compute_sample_weight\n",
    "\n",
    "train_sample_weight = compute_sample_weight(class_weight='balanced', y=Y_train)\n",
    "valid_sample_weigth = compute_sample_weight(class_weight='balanced', y=Y_valid)\n",
    "test_sample_weight = compute_sample_weight(class_weight='balanced', y=Y_test)"
   ]
  },
  {
   "cell_type": "code",
   "execution_count": 7,
   "metadata": {},
   "outputs": [
    {
     "name": "stderr",
     "output_type": "stream",
     "text": [
      "[I 2024-06-19 18:22:42,263] A new study created in RDB with name: Classification2024-06-19T18:22:42.240945\n"
     ]
    },
    {
     "name": "stdout",
     "output_type": "stream",
     "text": [
      "[0]\tvalidation_0-mlogloss:1.37619\tvalidation_1-mlogloss:1.37599\n",
      "[455]\tvalidation_0-mlogloss:1.00178\tvalidation_1-mlogloss:0.96292\n"
     ]
    },
    {
     "name": "stderr",
     "output_type": "stream",
     "text": [
      "[I 2024-06-19 18:23:17,946] Trial 0 finished with value: 1.001780187996308 and parameters: {'max_depth': 5, 'learning_rate': 0.036585953091325216, 'early_stop': 44}. Best is trial 0 with value: 1.001780187996308.\n"
     ]
    },
    {
     "name": "stdout",
     "output_type": "stream",
     "text": [
      "[0]\tvalidation_0-mlogloss:1.38159\tvalidation_1-mlogloss:1.38167\n",
      "[1356]\tvalidation_0-mlogloss:0.99743\tvalidation_1-mlogloss:0.96486\n"
     ]
    },
    {
     "name": "stderr",
     "output_type": "stream",
     "text": [
      "[I 2024-06-19 18:24:39,751] Trial 1 finished with value: 0.9974297899182668 and parameters: {'max_depth': 4, 'learning_rate': 0.02009865020253976, 'early_stop': 45}. Best is trial 1 with value: 0.9974297899182668.\n"
     ]
    },
    {
     "name": "stdout",
     "output_type": "stream",
     "text": [
      "[0]\tvalidation_0-mlogloss:1.36956\tvalidation_1-mlogloss:1.36937\n",
      "[254]\tvalidation_0-mlogloss:1.02278\tvalidation_1-mlogloss:0.97360\n"
     ]
    },
    {
     "name": "stderr",
     "output_type": "stream",
     "text": [
      "[I 2024-06-19 18:25:06,862] Trial 2 finished with value: 1.0231974096893899 and parameters: {'max_depth': 6, 'learning_rate': 0.05234358633659877, 'early_stop': 88}. Best is trial 1 with value: 0.9974297899182668.\n"
     ]
    },
    {
     "name": "stdout",
     "output_type": "stream",
     "text": [
      "[0]\tvalidation_0-mlogloss:1.38410\tvalidation_1-mlogloss:1.38406\n",
      "[2069]\tvalidation_0-mlogloss:0.99556\tvalidation_1-mlogloss:0.95790\n"
     ]
    },
    {
     "name": "stderr",
     "output_type": "stream",
     "text": [
      "[I 2024-06-19 18:28:07,233] Trial 3 finished with value: 0.9956012029644848 and parameters: {'max_depth': 5, 'learning_rate': 0.007836555522882923, 'early_stop': 100}. Best is trial 3 with value: 0.9956012029644848.\n"
     ]
    },
    {
     "name": "stdout",
     "output_type": "stream",
     "text": [
      "[0]\tvalidation_0-mlogloss:1.38062\tvalidation_1-mlogloss:1.38059\n",
      "[1607]\tvalidation_0-mlogloss:1.00803\tvalidation_1-mlogloss:0.96432\n"
     ]
    },
    {
     "name": "stderr",
     "output_type": "stream",
     "text": [
      "[I 2024-06-19 18:29:25,814] Trial 4 finished with value: 1.0079520483783129 and parameters: {'max_depth': 3, 'learning_rate': 0.031308258235191885, 'early_stop': 95}. Best is trial 3 with value: 0.9956012029644848.\n"
     ]
    },
    {
     "name": "stdout",
     "output_type": "stream",
     "text": [
      "[0]\tvalidation_0-mlogloss:1.38429\tvalidation_1-mlogloss:1.38427\n"
     ]
    },
    {
     "name": "stderr",
     "output_type": "stream",
     "text": [
      "[I 2024-06-19 18:29:26,347] Trial 5 pruned. Trial was pruned at iteration 0.\n"
     ]
    },
    {
     "name": "stdout",
     "output_type": "stream",
     "text": [
      "[0]\tvalidation_0-mlogloss:1.36853\tvalidation_1-mlogloss:1.36884\n",
      "[415]\tvalidation_0-mlogloss:1.01357\tvalidation_1-mlogloss:0.96914\n"
     ]
    },
    {
     "name": "stderr",
     "output_type": "stream",
     "text": [
      "[I 2024-06-19 18:29:47,595] Trial 6 finished with value: 1.0135698403604945 and parameters: {'max_depth': 4, 'learning_rate': 0.07772562973701458, 'early_stop': 92}. Best is trial 3 with value: 0.9956012029644848.\n"
     ]
    },
    {
     "name": "stdout",
     "output_type": "stream",
     "text": [
      "[0]\tvalidation_0-mlogloss:1.37403\tvalidation_1-mlogloss:1.37389\n",
      "[306]\tvalidation_0-mlogloss:0.99993\tvalidation_1-mlogloss:0.96886\n"
     ]
    },
    {
     "name": "stderr",
     "output_type": "stream",
     "text": [
      "[I 2024-06-19 18:30:18,725] Trial 7 finished with value: 1.0000641785633235 and parameters: {'max_depth': 6, 'learning_rate': 0.03809171127100446, 'early_stop': 74}. Best is trial 3 with value: 0.9956012029644848.\n"
     ]
    },
    {
     "name": "stdout",
     "output_type": "stream",
     "text": [
      "[0]\tvalidation_0-mlogloss:1.37816\tvalidation_1-mlogloss:1.37844\n"
     ]
    },
    {
     "name": "stderr",
     "output_type": "stream",
     "text": [
      "[I 2024-06-19 18:30:19,071] Trial 8 pruned. Trial was pruned at iteration 0.\n",
      "[I 2024-06-19 18:30:19,477] Trial 9 pruned. Trial was pruned at iteration 0.\n"
     ]
    },
    {
     "name": "stdout",
     "output_type": "stream",
     "text": [
      "[0]\tvalidation_0-mlogloss:1.38584\tvalidation_1-mlogloss:1.38583\n"
     ]
    },
    {
     "name": "stderr",
     "output_type": "stream",
     "text": [
      "[I 2024-06-19 18:30:19,890] Trial 10 pruned. Trial was pruned at iteration 0.\n",
      "[I 2024-06-19 18:30:20,305] Trial 11 pruned. Trial was pruned at iteration 0.\n",
      "[I 2024-06-19 18:30:20,666] Trial 12 pruned. Trial was pruned at iteration 0.\n"
     ]
    },
    {
     "name": "stdout",
     "output_type": "stream",
     "text": [
      "[0]\tvalidation_0-mlogloss:1.36972\tvalidation_1-mlogloss:1.36965\n"
     ]
    },
    {
     "name": "stderr",
     "output_type": "stream",
     "text": [
      "[I 2024-06-19 18:30:23,459] Trial 13 pruned. Trial was pruned at iteration 65.\n",
      "[I 2024-06-19 18:30:23,846] Trial 14 pruned. Trial was pruned at iteration 0.\n"
     ]
    },
    {
     "name": "stdout",
     "output_type": "stream",
     "text": [
      "[0]\tvalidation_0-mlogloss:1.38595\tvalidation_1-mlogloss:1.38594\n"
     ]
    },
    {
     "name": "stderr",
     "output_type": "stream",
     "text": [
      "[I 2024-06-19 18:30:24,259] Trial 15 pruned. Trial was pruned at iteration 0.\n",
      "[I 2024-06-19 18:30:24,612] Trial 16 pruned. Trial was pruned at iteration 0.\n"
     ]
    },
    {
     "name": "stdout",
     "output_type": "stream",
     "text": [
      "[0]\tvalidation_0-mlogloss:1.37408\tvalidation_1-mlogloss:1.37384\n",
      "[376]\tvalidation_0-mlogloss:0.99700\tvalidation_1-mlogloss:0.96527\n"
     ]
    },
    {
     "name": "stderr",
     "output_type": "stream",
     "text": [
      "[I 2024-06-19 18:30:51,327] Trial 17 finished with value: 0.9968272462009025 and parameters: {'max_depth': 5, 'learning_rate': 0.04438504988405534, 'early_stop': 54}. Best is trial 3 with value: 0.9956012029644848.\n"
     ]
    },
    {
     "name": "stdout",
     "output_type": "stream",
     "text": [
      "[0]\tvalidation_0-mlogloss:1.37394\tvalidation_1-mlogloss:1.37369\n",
      "[353]\tvalidation_0-mlogloss:0.99511\tvalidation_1-mlogloss:0.96235\n"
     ]
    },
    {
     "name": "stderr",
     "output_type": "stream",
     "text": [
      "[I 2024-06-19 18:31:16,429] Trial 18 finished with value: 0.9950266163462456 and parameters: {'max_depth': 5, 'learning_rate': 0.04490401713777975, 'early_stop': 57}. Best is trial 18 with value: 0.9950266163462456.\n"
     ]
    },
    {
     "name": "stdout",
     "output_type": "stream",
     "text": [
      "[0]\tvalidation_0-mlogloss:1.36126\tvalidation_1-mlogloss:1.36098\n",
      "[196]\tvalidation_0-mlogloss:1.04505\tvalidation_1-mlogloss:1.00867\n"
     ]
    },
    {
     "name": "stderr",
     "output_type": "stream",
     "text": [
      "[I 2024-06-19 18:31:36,376] Trial 19 finished with value: 1.0455530362512633 and parameters: {'max_depth': 6, 'learning_rate': 0.07937085373521599, 'early_stop': 81}. Best is trial 18 with value: 0.9950266163462456.\n"
     ]
    },
    {
     "name": "stdout",
     "output_type": "stream",
     "text": [
      "[0]\tvalidation_0-mlogloss:1.36898\tvalidation_1-mlogloss:1.36864\n"
     ]
    },
    {
     "name": "stderr",
     "output_type": "stream",
     "text": [
      "[I 2024-06-19 18:31:55,351] Trial 20 pruned. Trial was pruned at iteration 267.\n"
     ]
    },
    {
     "name": "stdout",
     "output_type": "stream",
     "text": [
      "[0]\tvalidation_0-mlogloss:1.37360\tvalidation_1-mlogloss:1.37335\n",
      "[386]\tvalidation_0-mlogloss:0.99827\tvalidation_1-mlogloss:0.96549\n"
     ]
    },
    {
     "name": "stderr",
     "output_type": "stream",
     "text": [
      "[I 2024-06-19 18:32:22,974] Trial 21 finished with value: 0.9981634078368462 and parameters: {'max_depth': 5, 'learning_rate': 0.046170686276511885, 'early_stop': 62}. Best is trial 18 with value: 0.9950266163462456.\n"
     ]
    },
    {
     "name": "stdout",
     "output_type": "stream",
     "text": [
      "[0]\tvalidation_0-mlogloss:1.37398\tvalidation_1-mlogloss:1.37374\n"
     ]
    },
    {
     "name": "stderr",
     "output_type": "stream",
     "text": [
      "[I 2024-06-19 18:32:23,615] Trial 22 pruned. Trial was pruned at iteration 3.\n"
     ]
    },
    {
     "name": "stdout",
     "output_type": "stream",
     "text": [
      "[0]\tvalidation_0-mlogloss:1.36283\tvalidation_1-mlogloss:1.36256\n",
      "[167]\tvalidation_0-mlogloss:1.02144\tvalidation_1-mlogloss:0.97978\n"
     ]
    },
    {
     "name": "stderr",
     "output_type": "stream",
     "text": [
      "[I 2024-06-19 18:32:40,866] Trial 23 finished with value: 1.0224942387716622 and parameters: {'max_depth': 6, 'learning_rate': 0.07419904791292417, 'early_stop': 33}. Best is trial 18 with value: 0.9950266163462456.\n"
     ]
    },
    {
     "name": "stdout",
     "output_type": "stream",
     "text": [
      "[0]\tvalidation_0-mlogloss:1.36024\tvalidation_1-mlogloss:1.35974\n"
     ]
    },
    {
     "name": "stderr",
     "output_type": "stream",
     "text": [
      "[I 2024-06-19 18:32:53,882] Trial 24 pruned. Trial was pruned at iteration 183.\n"
     ]
    },
    {
     "name": "stdout",
     "output_type": "stream",
     "text": [
      "[0]\tvalidation_0-mlogloss:1.37399\tvalidation_1-mlogloss:1.37419\n"
     ]
    },
    {
     "name": "stderr",
     "output_type": "stream",
     "text": [
      "[I 2024-06-19 18:32:54,267] Trial 25 pruned. Trial was pruned at iteration 0.\n",
      "[I 2024-06-19 18:32:54,646] Trial 26 pruned. Trial was pruned at iteration 0.\n",
      "[I 2024-06-19 18:32:55,052] Trial 27 pruned. Trial was pruned at iteration 0.\n"
     ]
    },
    {
     "name": "stdout",
     "output_type": "stream",
     "text": [
      "[0]\tvalidation_0-mlogloss:1.37778\tvalidation_1-mlogloss:1.37768\n"
     ]
    },
    {
     "name": "stderr",
     "output_type": "stream",
     "text": [
      "[I 2024-06-19 18:32:55,503] Trial 28 pruned. Trial was pruned at iteration 0.\n",
      "[I 2024-06-19 18:32:55,908] Trial 29 pruned. Trial was pruned at iteration 0.\n",
      "[I 2024-06-19 18:32:56,283] Trial 30 pruned. Trial was pruned at iteration 0.\n",
      "[I 2024-06-19 18:32:56,651] Trial 31 pruned. Trial was pruned at iteration 0.\n",
      "[I 2024-06-19 18:32:57,029] Trial 32 pruned. Trial was pruned at iteration 0.\n"
     ]
    },
    {
     "name": "stdout",
     "output_type": "stream",
     "text": [
      "[0]\tvalidation_0-mlogloss:1.37407\tvalidation_1-mlogloss:1.37427\n"
     ]
    },
    {
     "name": "stderr",
     "output_type": "stream",
     "text": [
      "[I 2024-06-19 18:32:57,408] Trial 33 pruned. Trial was pruned at iteration 0.\n"
     ]
    },
    {
     "name": "stdout",
     "output_type": "stream",
     "text": [
      "[0]\tvalidation_0-mlogloss:1.37955\tvalidation_1-mlogloss:1.37942\n"
     ]
    },
    {
     "name": "stderr",
     "output_type": "stream",
     "text": [
      "[I 2024-06-19 18:32:57,847] Trial 34 pruned. Trial was pruned at iteration 0.\n",
      "[I 2024-06-19 18:32:58,305] Trial 35 pruned. Trial was pruned at iteration 0.\n"
     ]
    },
    {
     "name": "stdout",
     "output_type": "stream",
     "text": [
      "[0]\tvalidation_0-mlogloss:1.38394\tvalidation_1-mlogloss:1.38390\n"
     ]
    },
    {
     "name": "stderr",
     "output_type": "stream",
     "text": [
      "[I 2024-06-19 18:32:58,719] Trial 36 pruned. Trial was pruned at iteration 0.\n"
     ]
    },
    {
     "name": "stdout",
     "output_type": "stream",
     "text": [
      "[0]\tvalidation_0-mlogloss:1.37113\tvalidation_1-mlogloss:1.37095\n",
      "[269]\tvalidation_0-mlogloss:1.00876\tvalidation_1-mlogloss:0.96951\n"
     ]
    },
    {
     "name": "stderr",
     "output_type": "stream",
     "text": [
      "[I 2024-06-19 18:33:26,154] Trial 37 finished with value: 1.0088683513887127 and parameters: {'max_depth': 6, 'learning_rate': 0.0473293881420037, 'early_stop': 94}. Best is trial 18 with value: 0.9950266163462456.\n"
     ]
    },
    {
     "name": "stdout",
     "output_type": "stream",
     "text": [
      "[0]\tvalidation_0-mlogloss:1.37270\tvalidation_1-mlogloss:1.37293\n"
     ]
    },
    {
     "name": "stderr",
     "output_type": "stream",
     "text": [
      "[I 2024-06-19 18:33:28,127] Trial 38 pruned. Trial was pruned at iteration 30.\n",
      "[I 2024-06-19 18:33:28,498] Trial 39 pruned. Trial was pruned at iteration 0.\n",
      "[I 2024-06-19 18:33:28,882] Trial 40 pruned. Trial was pruned at iteration 0.\n"
     ]
    },
    {
     "name": "stdout",
     "output_type": "stream",
     "text": [
      "[0]\tvalidation_0-mlogloss:1.37205\tvalidation_1-mlogloss:1.37177\n",
      "[359]\tvalidation_0-mlogloss:1.00688\tvalidation_1-mlogloss:0.96613\n"
     ]
    },
    {
     "name": "stderr",
     "output_type": "stream",
     "text": [
      "[I 2024-06-19 18:33:54,517] Trial 41 finished with value: 1.0068771247074675 and parameters: {'max_depth': 5, 'learning_rate': 0.05193913907504417, 'early_stop': 60}. Best is trial 18 with value: 0.9950266163462456.\n",
      "[I 2024-06-19 18:33:54,939] Trial 42 pruned. Trial was pruned at iteration 0.\n"
     ]
    },
    {
     "name": "stdout",
     "output_type": "stream",
     "text": [
      "[0]\tvalidation_0-mlogloss:1.38484\tvalidation_1-mlogloss:1.38481\n"
     ]
    },
    {
     "name": "stderr",
     "output_type": "stream",
     "text": [
      "[I 2024-06-19 18:33:55,354] Trial 43 pruned. Trial was pruned at iteration 0.\n"
     ]
    },
    {
     "name": "stdout",
     "output_type": "stream",
     "text": [
      "[0]\tvalidation_0-mlogloss:1.37296\tvalidation_1-mlogloss:1.37270\n",
      "[380]\tvalidation_0-mlogloss:1.00365\tvalidation_1-mlogloss:0.96311\n"
     ]
    },
    {
     "name": "stderr",
     "output_type": "stream",
     "text": [
      "[I 2024-06-19 18:34:22,319] Trial 44 finished with value: 1.0036406597830416 and parameters: {'max_depth': 5, 'learning_rate': 0.04853005513749197, 'early_stop': 55}. Best is trial 18 with value: 0.9950266163462456.\n"
     ]
    },
    {
     "name": "stdout",
     "output_type": "stream",
     "text": [
      "[0]\tvalidation_0-mlogloss:1.38302\tvalidation_1-mlogloss:1.38307\n"
     ]
    },
    {
     "name": "stderr",
     "output_type": "stream",
     "text": [
      "[I 2024-06-19 18:34:22,713] Trial 45 pruned. Trial was pruned at iteration 0.\n"
     ]
    },
    {
     "name": "stdout",
     "output_type": "stream",
     "text": [
      "[0]\tvalidation_0-mlogloss:1.36761\tvalidation_1-mlogloss:1.36740\n",
      "[214]\tvalidation_0-mlogloss:1.01370\tvalidation_1-mlogloss:0.97798\n"
     ]
    },
    {
     "name": "stderr",
     "output_type": "stream",
     "text": [
      "[I 2024-06-19 18:34:44,479] Trial 46 finished with value: 1.014154920842014 and parameters: {'max_depth': 6, 'learning_rate': 0.0586224286785947, 'early_stop': 68}. Best is trial 18 with value: 0.9950266163462456.\n",
      "[I 2024-06-19 18:34:44,898] Trial 47 pruned. Trial was pruned at iteration 0.\n",
      "[I 2024-06-19 18:34:45,297] Trial 48 pruned. Trial was pruned at iteration 0.\n"
     ]
    },
    {
     "name": "stdout",
     "output_type": "stream",
     "text": [
      "[0]\tvalidation_0-mlogloss:1.36686\tvalidation_1-mlogloss:1.36649\n"
     ]
    },
    {
     "name": "stderr",
     "output_type": "stream",
     "text": [
      "[I 2024-06-19 18:34:57,513] Trial 49 pruned. Trial was pruned at iteration 170.\n"
     ]
    },
    {
     "name": "stdout",
     "output_type": "stream",
     "text": [
      "[0]\tvalidation_0-mlogloss:1.36291\tvalidation_1-mlogloss:1.36246\n"
     ]
    },
    {
     "name": "stderr",
     "output_type": "stream",
     "text": [
      "[I 2024-06-19 18:35:09,451] Trial 50 pruned. Trial was pruned at iteration 165.\n",
      "[I 2024-06-19 18:35:09,907] Trial 51 pruned. Trial was pruned at iteration 0.\n"
     ]
    },
    {
     "name": "stdout",
     "output_type": "stream",
     "text": [
      "[0]\tvalidation_0-mlogloss:1.37629\tvalidation_1-mlogloss:1.37617\n"
     ]
    },
    {
     "name": "stderr",
     "output_type": "stream",
     "text": [
      "[I 2024-06-19 18:35:10,370] Trial 52 pruned. Trial was pruned at iteration 0.\n"
     ]
    },
    {
     "name": "stdout",
     "output_type": "stream",
     "text": [
      "[0]\tvalidation_0-mlogloss:1.37151\tvalidation_1-mlogloss:1.37134\n",
      "[307]\tvalidation_0-mlogloss:1.01866\tvalidation_1-mlogloss:0.97782\n"
     ]
    },
    {
     "name": "stderr",
     "output_type": "stream",
     "text": [
      "[I 2024-06-19 18:35:41,196] Trial 53 finished with value: 1.0186550206717226 and parameters: {'max_depth': 6, 'learning_rate': 0.0460970339052106, 'early_stop': 89}. Best is trial 18 with value: 0.9950266163462456.\n"
     ]
    },
    {
     "name": "stdout",
     "output_type": "stream",
     "text": [
      "[0]\tvalidation_0-mlogloss:1.37330\tvalidation_1-mlogloss:1.37315\n"
     ]
    },
    {
     "name": "stderr",
     "output_type": "stream",
     "text": [
      "[I 2024-06-19 18:35:41,695] Trial 54 pruned. Trial was pruned at iteration 0.\n"
     ]
    },
    {
     "name": "stdout",
     "output_type": "stream",
     "text": [
      "[0]\tvalidation_0-mlogloss:1.37137\tvalidation_1-mlogloss:1.37108\n",
      "[342]\tvalidation_0-mlogloss:1.00547\tvalidation_1-mlogloss:0.97071\n"
     ]
    },
    {
     "name": "stderr",
     "output_type": "stream",
     "text": [
      "[I 2024-06-19 18:36:05,986] Trial 55 finished with value: 1.0054695628052077 and parameters: {'max_depth': 5, 'learning_rate': 0.054464105618914446, 'early_stop': 64}. Best is trial 18 with value: 0.9950266163462456.\n"
     ]
    },
    {
     "name": "stdout",
     "output_type": "stream",
     "text": [
      "[0]\tvalidation_0-mlogloss:1.38563\tvalidation_1-mlogloss:1.38563\n"
     ]
    },
    {
     "name": "stderr",
     "output_type": "stream",
     "text": [
      "[I 2024-06-19 18:36:06,359] Trial 56 pruned. Trial was pruned at iteration 0.\n"
     ]
    },
    {
     "name": "stdout",
     "output_type": "stream",
     "text": [
      "[0]\tvalidation_0-mlogloss:1.36930\tvalidation_1-mlogloss:1.36897\n"
     ]
    },
    {
     "name": "stderr",
     "output_type": "stream",
     "text": [
      "[I 2024-06-19 18:36:18,285] Trial 57 pruned. Trial was pruned at iteration 163.\n",
      "[I 2024-06-19 18:36:18,676] Trial 58 pruned. Trial was pruned at iteration 0.\n"
     ]
    },
    {
     "name": "stdout",
     "output_type": "stream",
     "text": [
      "[0]\tvalidation_0-mlogloss:1.37931\tvalidation_1-mlogloss:1.37955\n"
     ]
    },
    {
     "name": "stderr",
     "output_type": "stream",
     "text": [
      "[I 2024-06-19 18:36:19,033] Trial 59 pruned. Trial was pruned at iteration 0.\n",
      "[I 2024-06-19 18:36:19,445] Trial 60 pruned. Trial was pruned at iteration 0.\n"
     ]
    },
    {
     "name": "stdout",
     "output_type": "stream",
     "text": [
      "[0]\tvalidation_0-mlogloss:1.37633\tvalidation_1-mlogloss:1.37613\n"
     ]
    },
    {
     "name": "stderr",
     "output_type": "stream",
     "text": [
      "[I 2024-06-19 18:36:19,857] Trial 61 pruned. Trial was pruned at iteration 0.\n",
      "[I 2024-06-19 18:36:20,240] Trial 62 pruned. Trial was pruned at iteration 0.\n",
      "[I 2024-06-19 18:36:20,655] Trial 63 pruned. Trial was pruned at iteration 0.\n",
      "[I 2024-06-19 18:36:21,112] Trial 64 pruned. Trial was pruned at iteration 0.\n"
     ]
    },
    {
     "name": "stdout",
     "output_type": "stream",
     "text": [
      "[0]\tvalidation_0-mlogloss:1.37111\tvalidation_1-mlogloss:1.37081\n"
     ]
    },
    {
     "name": "stderr",
     "output_type": "stream",
     "text": [
      "[I 2024-06-19 18:36:35,409] Trial 65 pruned. Trial was pruned at iteration 197.\n"
     ]
    },
    {
     "name": "stdout",
     "output_type": "stream",
     "text": [
      "[0]\tvalidation_0-mlogloss:1.37630\tvalidation_1-mlogloss:1.37647\n"
     ]
    },
    {
     "name": "stderr",
     "output_type": "stream",
     "text": [
      "[I 2024-06-19 18:36:35,800] Trial 66 pruned. Trial was pruned at iteration 0.\n",
      "[I 2024-06-19 18:36:36,211] Trial 67 pruned. Trial was pruned at iteration 0.\n"
     ]
    },
    {
     "name": "stdout",
     "output_type": "stream",
     "text": [
      "[0]\tvalidation_0-mlogloss:1.37693\tvalidation_1-mlogloss:1.37682\n"
     ]
    },
    {
     "name": "stderr",
     "output_type": "stream",
     "text": [
      "[I 2024-06-19 18:36:36,670] Trial 68 pruned. Trial was pruned at iteration 0.\n",
      "[I 2024-06-19 18:36:37,079] Trial 69 pruned. Trial was pruned at iteration 0.\n"
     ]
    },
    {
     "name": "stdout",
     "output_type": "stream",
     "text": [
      "[0]\tvalidation_0-mlogloss:1.38145\tvalidation_1-mlogloss:1.38153\n"
     ]
    },
    {
     "name": "stderr",
     "output_type": "stream",
     "text": [
      "[I 2024-06-19 18:36:37,467] Trial 70 pruned. Trial was pruned at iteration 0.\n",
      "[I 2024-06-19 18:36:37,883] Trial 71 pruned. Trial was pruned at iteration 0.\n",
      "[I 2024-06-19 18:36:38,294] Trial 72 pruned. Trial was pruned at iteration 0.\n",
      "[I 2024-06-19 18:36:38,702] Trial 73 pruned. Trial was pruned at iteration 0.\n"
     ]
    },
    {
     "name": "stdout",
     "output_type": "stream",
     "text": [
      "[0]\tvalidation_0-mlogloss:1.37228\tvalidation_1-mlogloss:1.37201\n"
     ]
    },
    {
     "name": "stderr",
     "output_type": "stream",
     "text": [
      "[I 2024-06-19 18:36:47,821] Trial 74 pruned. Trial was pruned at iteration 121.\n"
     ]
    },
    {
     "name": "stdout",
     "output_type": "stream",
     "text": [
      "[0]\tvalidation_0-mlogloss:1.37631\tvalidation_1-mlogloss:1.37612\n"
     ]
    },
    {
     "name": "stderr",
     "output_type": "stream",
     "text": [
      "[I 2024-06-19 18:36:48,232] Trial 75 pruned. Trial was pruned at iteration 0.\n",
      "[I 2024-06-19 18:36:48,613] Trial 76 pruned. Trial was pruned at iteration 0.\n",
      "[I 2024-06-19 18:36:49,022] Trial 77 pruned. Trial was pruned at iteration 0.\n",
      "[I 2024-06-19 18:36:49,481] Trial 78 pruned. Trial was pruned at iteration 0.\n"
     ]
    },
    {
     "name": "stdout",
     "output_type": "stream",
     "text": [
      "[0]\tvalidation_0-mlogloss:1.37198\tvalidation_1-mlogloss:1.37222\n"
     ]
    },
    {
     "name": "stderr",
     "output_type": "stream",
     "text": [
      "[I 2024-06-19 18:36:50,480] Trial 79 pruned. Trial was pruned at iteration 12.\n",
      "[I 2024-06-19 18:36:50,893] Trial 80 pruned. Trial was pruned at iteration 0.\n"
     ]
    },
    {
     "name": "stdout",
     "output_type": "stream",
     "text": [
      "[0]\tvalidation_0-mlogloss:1.37146\tvalidation_1-mlogloss:1.37117\n",
      "[363]\tvalidation_0-mlogloss:1.00710\tvalidation_1-mlogloss:0.96792\n"
     ]
    },
    {
     "name": "stderr",
     "output_type": "stream",
     "text": [
      "[I 2024-06-19 18:37:16,782] Trial 81 finished with value: 1.007648971604608 and parameters: {'max_depth': 5, 'learning_rate': 0.05413674118336233, 'early_stop': 66}. Best is trial 18 with value: 0.9950266163462456.\n"
     ]
    },
    {
     "name": "stdout",
     "output_type": "stream",
     "text": [
      "[0]\tvalidation_0-mlogloss:1.36783\tvalidation_1-mlogloss:1.36747\n"
     ]
    },
    {
     "name": "stderr",
     "output_type": "stream",
     "text": [
      "[I 2024-06-19 18:37:29,890] Trial 82 pruned. Trial was pruned at iteration 179.\n",
      "[I 2024-06-19 18:37:30,313] Trial 83 pruned. Trial was pruned at iteration 0.\n",
      "[I 2024-06-19 18:37:30,728] Trial 84 pruned. Trial was pruned at iteration 0.\n"
     ]
    },
    {
     "name": "stdout",
     "output_type": "stream",
     "text": [
      "[0]\tvalidation_0-mlogloss:1.37047\tvalidation_1-mlogloss:1.37016\n"
     ]
    },
    {
     "name": "stderr",
     "output_type": "stream",
     "text": [
      "[I 2024-06-19 18:37:43,650] Trial 85 pruned. Trial was pruned at iteration 178.\n",
      "[I 2024-06-19 18:37:44,016] Trial 86 pruned. Trial was pruned at iteration 0.\n"
     ]
    },
    {
     "name": "stdout",
     "output_type": "stream",
     "text": [
      "[0]\tvalidation_0-mlogloss:1.37071\tvalidation_1-mlogloss:1.37053\n"
     ]
    },
    {
     "name": "stderr",
     "output_type": "stream",
     "text": [
      "[I 2024-06-19 18:38:09,908] Trial 87 pruned. Trial was pruned at iteration 255.\n"
     ]
    },
    {
     "name": "stdout",
     "output_type": "stream",
     "text": [
      "[0]\tvalidation_0-mlogloss:1.37753\tvalidation_1-mlogloss:1.37768\n"
     ]
    },
    {
     "name": "stderr",
     "output_type": "stream",
     "text": [
      "[I 2024-06-19 18:38:10,304] Trial 88 pruned. Trial was pruned at iteration 0.\n",
      "[I 2024-06-19 18:38:10,720] Trial 89 pruned. Trial was pruned at iteration 0.\n"
     ]
    },
    {
     "name": "stdout",
     "output_type": "stream",
     "text": [
      "[0]\tvalidation_0-mlogloss:1.36990\tvalidation_1-mlogloss:1.36958\n",
      "[307]\tvalidation_0-mlogloss:1.00476\tvalidation_1-mlogloss:0.96871\n"
     ]
    },
    {
     "name": "stderr",
     "output_type": "stream",
     "text": [
      "[I 2024-06-19 18:38:32,585] Trial 90 finished with value: 1.0047621247386262 and parameters: {'max_depth': 5, 'learning_rate': 0.05998069353762287, 'early_stop': 71}. Best is trial 18 with value: 0.9950266163462456.\n"
     ]
    },
    {
     "name": "stdout",
     "output_type": "stream",
     "text": [
      "[0]\tvalidation_0-mlogloss:1.36968\tvalidation_1-mlogloss:1.36935\n"
     ]
    },
    {
     "name": "stderr",
     "output_type": "stream",
     "text": [
      "[I 2024-06-19 18:38:45,690] Trial 91 pruned. Trial was pruned at iteration 180.\n"
     ]
    },
    {
     "name": "stdout",
     "output_type": "stream",
     "text": [
      "[0]\tvalidation_0-mlogloss:1.36873\tvalidation_1-mlogloss:1.36839\n"
     ]
    },
    {
     "name": "stderr",
     "output_type": "stream",
     "text": [
      "[I 2024-06-19 18:38:55,325] Trial 92 pruned. Trial was pruned at iteration 130.\n"
     ]
    },
    {
     "name": "stdout",
     "output_type": "stream",
     "text": [
      "[0]\tvalidation_0-mlogloss:1.37175\tvalidation_1-mlogloss:1.37147\n"
     ]
    },
    {
     "name": "stderr",
     "output_type": "stream",
     "text": [
      "[I 2024-06-19 18:38:57,909] Trial 93 pruned. Trial was pruned at iteration 29.\n",
      "[I 2024-06-19 18:38:58,323] Trial 94 pruned. Trial was pruned at iteration 0.\n"
     ]
    },
    {
     "name": "stdout",
     "output_type": "stream",
     "text": [
      "[0]\tvalidation_0-mlogloss:1.36857\tvalidation_1-mlogloss:1.36836\n"
     ]
    },
    {
     "name": "stderr",
     "output_type": "stream",
     "text": [
      "[I 2024-06-19 18:39:17,485] Trial 95 pruned. Trial was pruned at iteration 186.\n",
      "[I 2024-06-19 18:39:17,903] Trial 96 pruned. Trial was pruned at iteration 0.\n"
     ]
    },
    {
     "name": "stdout",
     "output_type": "stream",
     "text": [
      "[0]\tvalidation_0-mlogloss:1.38462\tvalidation_1-mlogloss:1.38465\n"
     ]
    },
    {
     "name": "stderr",
     "output_type": "stream",
     "text": [
      "[I 2024-06-19 18:39:18,291] Trial 97 pruned. Trial was pruned at iteration 0.\n",
      "[I 2024-06-19 18:39:18,704] Trial 98 pruned. Trial was pruned at iteration 0.\n"
     ]
    },
    {
     "name": "stdout",
     "output_type": "stream",
     "text": [
      "[0]\tvalidation_0-mlogloss:1.36816\tvalidation_1-mlogloss:1.36781\n"
     ]
    },
    {
     "name": "stderr",
     "output_type": "stream",
     "text": [
      "[I 2024-06-19 18:39:31,451] Trial 99 pruned. Trial was pruned at iteration 177.\n"
     ]
    }
   ],
   "source": [
    "best_model = None\n",
    "best_eval_metric = float(\"inf\")\n",
    "\n",
    "def objective(trial):\n",
    "    global best_model\n",
    "    global best_eval_metric\n",
    "\n",
    "    model = xgb.XGBClassifier(\n",
    "        verbosity=0,\n",
    "\n",
    "        objective= 'multi:softprob',\n",
    "        eval_metric='mlogloss',\n",
    "        n_estimators=5000,\n",
    "        num_class=len(Y_train.unique()),\n",
    "        \n",
    "        max_depth=trial.suggest_int('max_depth', 2, 6), \n",
    "        learning_rate=trial.suggest_float('learning_rate', 1e-5, 1e-1),\n",
    "        subsample=0.9,\n",
    "        colsample_bytree=0.5,\n",
    "        early_stopping_rounds=trial.suggest_int('early_stop', 10, 100),\n",
    "        callbacks=[optuna_integration.XGBoostPruningCallback(trial, 'validation_0-mlogloss')],\n",
    "\n",
    "        n_jobs=4\n",
    "    )\n",
    "\n",
    "    model.fit(X_train, Y_train,\n",
    "              sample_weight=train_sample_weight,\n",
    "              eval_set=[(X_valid, Y_valid), (X_test, Y_test)], \n",
    "              sample_weight_eval_set=[valid_sample_weigth, test_sample_weight],\n",
    "              verbose=5000)\n",
    "\n",
    "    eval_metric = model.evals_result()['validation_0']['mlogloss'][-1]\n",
    "\n",
    "    if eval_metric < best_eval_metric:\n",
    "        best_eval_metric = eval_metric\n",
    "        best_model = model\n",
    "\n",
    "    return eval_metric\n",
    "\n",
    "\n",
    "study = optuna.create_study(direction='minimize', \n",
    "                            storage=\"sqlite:///XGB_Tox_Pred.sqlite3\", \n",
    "                            study_name=f\"Classification{datetime.now().isoformat()}\")\n",
    "study.optimize(objective, n_trials=100)"
   ]
  },
  {
   "cell_type": "code",
   "execution_count": 8,
   "metadata": {},
   "outputs": [],
   "source": [
    "bst = best_model"
   ]
  },
  {
   "cell_type": "code",
   "execution_count": 9,
   "metadata": {},
   "outputs": [],
   "source": [
    "from datetime import datetime\n",
    "bst.save_model(f\"xgboost_classfifcation_model_{datetime.now().isoformat()}.json\")"
   ]
  },
  {
   "cell_type": "code",
   "execution_count": null,
   "metadata": {},
   "outputs": [],
   "source": [
    "bst = xgb.XGBClassifier()\n",
    "bst.load_model(\"xgboost_classfifcation_model_2024-06-19T10:57:14.894608.json\")"
   ]
  },
  {
   "cell_type": "code",
   "execution_count": 20,
   "metadata": {},
   "outputs": [
    {
     "name": "stdout",
     "output_type": "stream",
     "text": [
      "              precision    recall  f1-score   support\n",
      "\n",
      "           0       0.64      0.59      0.61       206\n",
      "           1       0.50      0.52      0.51       548\n",
      "           2       0.70      0.69      0.70      1395\n",
      "           3       0.56      0.57      0.57       517\n",
      "\n",
      "    accuracy                           0.63      2666\n",
      "   macro avg       0.60      0.59      0.60      2666\n",
      "weighted avg       0.63      0.63      0.63      2666\n",
      "\n"
     ]
    },
    {
     "data": {
      "image/png": "[encoded data removed]",
      "text/plain": [
       "<Figure size 640x480 with 2 Axes>"
      ]
     },
     "metadata": {},
     "output_type": "display_data"
    }
   ],
   "source": [
    "pred = bst.predict(X_test)\n",
    "\n",
    "import numpy as np\n",
    "import seaborn as sns\n",
    "from sklearn.metrics import r2_score\n",
    "matrix = np.zeros((4, 4), dtype=np.float64)\n",
    "for i, (p, t) in enumerate(zip(pred, Y_test)):\n",
    "    matrix[t, p] += 1\n",
    "\n",
    "annot = np.copy(matrix)\n",
    "for i, count in enumerate(Y_test.value_counts().sort_index()):\n",
    "    matrix[i] /= count\n",
    "\n",
    "sns.heatmap(matrix, cmap='coolwarm', robust=True, annot=annot, fmt='g', xticklabels=class_labels, yticklabels=class_labels).set_title(\"Matriz de confusão\")\n",
    "\n",
    "from sklearn.metrics import accuracy_score, classification_report\n",
    "print(classification_report(Y_test.values, pred))"
   ]
  }
 ],
 "metadata": {
  "kernelspec": {
   "display_name": "MoLFormer",
   "language": "python",
   "name": "python3"
  },
  "language_info": {
   "codemirror_mode": {
    "name": "ipython",
    "version": 3
   },
   "file_extension": ".py",
   "mimetype": "text/x-python",
   "name": "python",
   "nbconvert_exporter": "python",
   "pygments_lexer": "ipython3",
   "version": "3.8.19"
  }
 },
 "nbformat": 4,
 "nbformat_minor": 2
}
