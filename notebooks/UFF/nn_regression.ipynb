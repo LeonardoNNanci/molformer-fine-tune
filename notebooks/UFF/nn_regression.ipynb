{
 "cells": [
  {
   "cell_type": "code",
   "execution_count": null,
   "metadata": {},
   "outputs": [],
   "source": [
    "import pandas as pd\n",
    "\n",
    "import torch\n",
    "from torch import optim\n",
    "from torch.utils.data import Dataset, DataLoader\n",
    "\n",
    "from sklearn.metrics import mean_squared_error\n",
    "from math import sqrt\n",
    "\n",
    "from common import *"
   ]
  },
  {
   "cell_type": "markdown",
   "metadata": {},
   "source": [
    "#### Load data"
   ]
  },
  {
   "cell_type": "code",
   "execution_count": null,
   "metadata": {},
   "outputs": [],
   "source": [
    "train_data = pd.read_csv(\"../../data/ld50/train.csv\")\n",
    "test_data = pd.read_csv(\"../../data/ld50/test.csv\")\n",
    "\n",
    "y_train = train_data[\"ld50\"]\n",
    "y_test = test_data[\"ld50\"]\n",
    "\n",
    "x_train = train_data[\"smiles\"]\n",
    "x_test = test_data[\"smiles\"]\n",
    "\n",
    "x_train.describe(), y_train.describe()"
   ]
  },
  {
   "cell_type": "markdown",
   "metadata": {},
   "source": [
    "#### Load model and extend layers"
   ]
  },
  {
   "cell_type": "code",
   "execution_count": null,
   "metadata": {},
   "outputs": [],
   "source": [
    "molformer, tokenizer = load_model()\n",
    "\n",
    "model = torch.nn.Sequential(\n",
    "            torch.nn.Linear(768, 1024),\n",
    "            torch.nn.BatchNorm1d(1024),\n",
    "            torch.nn.LeakyReLU(),\n",
    "            torch.nn.Linear(1024, 1024),\n",
    "            torch.nn.BatchNorm1d(1024),\n",
    "            torch.nn.LeakyReLU(),\n",
    "            torch.nn.Linear(1024, 1)\n",
    "        )"
   ]
  },
  {
   "cell_type": "markdown",
   "metadata": {},
   "source": [
    "#### Head-only training"
   ]
  },
  {
   "cell_type": "code",
   "execution_count": null,
   "metadata": {},
   "outputs": [],
   "source": [
    "# train_smiles = x_train.apply(canonicalize)\n",
    "# test_smiles = x_test.apply(canonicalize)\n",
    "\n",
    "# train_embeddings = embed(molformer, train_smiles, tokenizer)\n",
    "# test_embeddings = embed(molformer, test_smiles, tokenizer)"
   ]
  },
  {
   "cell_type": "code",
   "execution_count": null,
   "metadata": {},
   "outputs": [],
   "source": [
    "# class EmbeddingsDataset(Dataset):\n",
    "#     def __init__(self, x: torch.tensor, y: pd.Series):\n",
    "#         self.X = x\n",
    "#         self.Y = y\n",
    "\n",
    "#     def __len__(self):\n",
    "#         return len(self.Y)\n",
    "    \n",
    "#     def __getitem__(self, index: int):\n",
    "#         x = self.X[index]\n",
    "#         y = torch.tensor(self.Y.iloc[index])\n",
    "#         return x, y.float()\n",
    "\n",
    "# train_dataset = EmbeddingsDataset(train_embeddings, y_train)\n",
    "# test_dataset = EmbeddingsDataset(test_embeddings, y_test)\n",
    "# train_dataloader = DataLoader(train_dataset, batch_size=64, shuffle=True)\n",
    "# test_dataloader = DataLoader(test_dataset, batch_size=64, shuffle=True)"
   ]
  },
  {
   "cell_type": "code",
   "execution_count": null,
   "metadata": {},
   "outputs": [],
   "source": [
    "# optimizer = optim.Adam(model.parameters())\n",
    "# criterion = torch.nn.MSELoss()\n",
    "# num_epochs = 100\n",
    "\n",
    "# model.train()\n",
    "# for epoch_index in range(num_epochs):\n",
    "#     running_loss = 0.\n",
    "#     last_loss = 0.\n",
    "\n",
    "#     # Here, we use enumerate(training_loader) instead of\n",
    "#     # iter(training_loader) so that we can track the batch\n",
    "#     # index and do some intra-epoch reporting\n",
    "#     for i, data in enumerate(train_dataloader):\n",
    "#         # Every data instance is an input + label pair\n",
    "#         inputs, labels = data\n",
    "\n",
    "#         # Zero your gradients for every batch!\n",
    "#         optimizer.zero_grad()\n",
    "\n",
    "#         # Make predictions for this batch\n",
    "#         outputs = model(inputs)\n",
    "\n",
    "#         # Compute the loss and its gradients\n",
    "#         loss = criterion(outputs, labels.float().unsqueeze(-1))\n",
    "#         loss.backward()\n",
    "\n",
    "#         # Adjust learning weights\n",
    "#         optimizer.step()\n",
    "\n",
    "#         # Gather data and report\n",
    "#         running_loss += loss.item()\n",
    "\n",
    "#         if (i) % 20 == 19:\n",
    "#             train_loss = running_loss / 20 # loss per batch\n",
    "#             running_loss = 0.\n",
    "#             print('Epoch {} batch {} train loss: {}'.format(epoch_index, i + 1, train_loss))"
   ]
  },
  {
   "cell_type": "code",
   "execution_count": null,
   "metadata": {},
   "outputs": [],
   "source": [
    "# import matplotlib.pyplot as plt\n",
    "# from sklearn.metrics import mean_squared_error, r2_score\n",
    "# from math import sqrt\n",
    "\n",
    "# model.eval()\n",
    "# inputs = test_embeddings\n",
    "# with torch.no_grad():\n",
    "#     y_pred = model(inputs)\n",
    "#     y_pred = y_pred.squeeze(-1).detach().numpy()\n",
    "#     plt.scatter(y_test.values,\n",
    "#                 y_pred,\n",
    "#                 color='r')\n",
    "\n",
    "# sqrt(mean_squared_error(y_test, y_pred)), r2_score(y_test, y_pred)"
   ]
  },
  {
   "cell_type": "markdown",
   "metadata": {},
   "source": [
    "#### Full model training"
   ]
  },
  {
   "cell_type": "code",
   "execution_count": null,
   "metadata": {},
   "outputs": [],
   "source": [
    "class SmilesDataset(Dataset):\n",
    "    def __init__(self, x: pd.Series, y: pd.Series):\n",
    "        self.X = x.apply(canonicalize)\n",
    "        self.Y = y\n",
    "\n",
    "    def __len__(self):\n",
    "        return len(self.Y)\n",
    "    \n",
    "    def __getitem__(self, index: int):\n",
    "        x = self.X.iloc[index]\n",
    "        y = torch.tensor(self.Y.iloc[index])\n",
    "        return x, y.float()\n",
    "\n",
    "train_dataset = SmilesDataset(x_train, y_train)\n",
    "test_dataset = SmilesDataset(x_test, y_test)\n",
    "train_dataloader = DataLoader(train_dataset, batch_size=32, shuffle=True)\n",
    "test_dataloader = DataLoader(test_dataset, batch_size=32, shuffle=True)"
   ]
  },
  {
   "cell_type": "code",
   "execution_count": null,
   "metadata": {},
   "outputs": [],
   "source": [
    "parameters = list(model.parameters()) + list(molformer.parameters())\n",
    "optimizer = optim.Adam(parameters, lr=12e-5)\n",
    "criterion = torch.nn.MSELoss()\n",
    "num_epochs = 100\n",
    "\n",
    "for epoch_index in range(num_epochs):\n",
    "    running_loss = 0.\n",
    "    last_loss = 0.\n",
    "\n",
    "    # Here, we use enumerate(training_loader) instead of\n",
    "    # iter(training_loader) so that we can track the batch\n",
    "    # index and do some intra-epoch reporting\n",
    "    for i, data in enumerate(train_dataloader):\n",
    "        if i == 0:\n",
    "            running_loss = 0.\n",
    "        # Every data instance is an input + label pair\n",
    "        inputs, labels = data\n",
    "\n",
    "        # Zero your gradients for every batch!\n",
    "        optimizer.zero_grad()\n",
    "\n",
    "        # Make predictions for this batch\n",
    "        batch_enc = tokenizer.batch_encode_plus(inputs, padding=True, add_special_tokens=True)\n",
    "        idx, mask = torch.tensor(batch_enc['input_ids']), torch.tensor(batch_enc['attention_mask'])\n",
    "        token_embeddings = molformer.blocks(molformer.tok_emb(idx), length_mask=LM(mask.sum(-1)))\n",
    "        input_mask_expanded = mask.unsqueeze(-1).expand(token_embeddings.size()).float()\n",
    "        sum_embeddings = torch.sum(token_embeddings * input_mask_expanded, 1)\n",
    "        sum_mask = torch.clamp(input_mask_expanded.sum(1), min=1e-9)\n",
    "        embedding = sum_embeddings / sum_mask\n",
    "        outputs = model(embedding)\n",
    "\n",
    "        # Compute the loss and its gradients\n",
    "        loss = criterion(outputs, labels.float().unsqueeze(-1))\n",
    "        loss.backward()\n",
    "\n",
    "        # Adjust learning weights\n",
    "        optimizer.step()\n",
    "\n",
    "        # Gather data and report\n",
    "        running_loss += loss.item()\n",
    "\n",
    "        if i % 1000 == 999:\n",
    "            last_loss = running_loss / 1000 # loss per batch\n",
    "            print('Epoch {}  batch {} loss: {}'.format(epoch_index, i + 1, last_loss))\n",
    "            running_loss = 0."
   ]
  },
  {
   "cell_type": "code",
   "execution_count": null,
   "metadata": {},
   "outputs": [],
   "source": [
    "from datetime import datetime\n",
    "torch.save(model.state_dict(), f\"nn_model_{datetime.now().isoformat()}\")"
   ]
  }
 ],
 "metadata": {
  "kernelspec": {
   "display_name": "MoLFormer",
   "language": "python",
   "name": "python3"
  },
  "language_info": {
   "codemirror_mode": {
    "name": "ipython",
    "version": 3
   },
   "file_extension": ".py",
   "mimetype": "text/x-python",
   "name": "python",
   "nbconvert_exporter": "python",
   "pygments_lexer": "ipython3",
   "version": "3.8.19"
  }
 },
 "nbformat": 4,
 "nbformat_minor": 2
}
