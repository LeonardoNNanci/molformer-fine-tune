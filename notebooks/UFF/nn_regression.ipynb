{
 "cells": [
  {
   "cell_type": "code",
   "execution_count": null,
   "metadata": {},
   "outputs": [],
   "source": [
    "import pandas as pd\n",
    "\n",
    "import torch\n",
    "from torch import optim\n",
    "from torch.utils.data import Dataset, DataLoader\n",
    "from torch.utils.tensorboard import SummaryWriter\n",
    "\n",
    "from sklearn.metrics import mean_squared_error\n",
    "from math import sqrt\n",
    "\n",
    "from common import *"
   ]
  },
  {
   "cell_type": "markdown",
   "metadata": {},
   "source": [
    "#### Load data"
   ]
  },
  {
   "cell_type": "code",
   "execution_count": null,
   "metadata": {},
   "outputs": [],
   "source": [
    "train_data = pd.read_csv(\"../../data/ld50/train.csv\")\n",
    "test_data = pd.read_csv(\"../../data/ld50/test.csv\")\n",
    "\n",
    "y_train = train_data[\"ld50\"]\n",
    "y_test = test_data[\"ld50\"]\n",
    "\n",
    "x_train = pd.read_csv(\"train_embeddings.csv\")\n",
    "x_test = pd.read_csv(\"test_embeddings.csv\")"
   ]
  },
  {
   "cell_type": "markdown",
   "metadata": {},
   "source": [
    "#### Load model and extend layers"
   ]
  },
  {
   "cell_type": "code",
   "execution_count": null,
   "metadata": {},
   "outputs": [],
   "source": [
    "model = torch.nn.Sequential(\n",
    "            torch.nn.Linear(768, 1024),\n",
    "            torch.nn.BatchNorm1d(1024),\n",
    "            torch.nn.LeakyReLU(),\n",
    "            torch.nn.Linear(1024, 1024),\n",
    "            torch.nn.BatchNorm1d(1024),\n",
    "            torch.nn.LeakyReLU(),\n",
    "            torch.nn.Linear(1024, 1)\n",
    "        )\n",
    "model"
   ]
  },
  {
   "cell_type": "markdown",
   "metadata": {},
   "source": [
    "#### Head training"
   ]
  },
  {
   "cell_type": "code",
   "execution_count": null,
   "metadata": {},
   "outputs": [],
   "source": [
    "class SmilesDataset(Dataset):\n",
    "    def __init__(self, x: pd.DataFrame, y: pd.Series):\n",
    "        self.X = x\n",
    "        self.Y = y\n",
    "\n",
    "    def __len__(self):\n",
    "        return len(self.Y)\n",
    "    \n",
    "    def __getitem__(self, index: int):\n",
    "        x = torch.tensor(self.X.iloc[index]).float()\n",
    "        y = torch.tensor(self.Y.iloc[index]).float()\n",
    "        return x, y\n",
    "\n",
    "train_dataset = SmilesDataset(x_train, y_train)\n",
    "test_dataset = SmilesDataset(x_test, y_test)\n",
    "train_dataloader = DataLoader(train_dataset, batch_size=32, shuffle=True)\n",
    "test_dataloader = DataLoader(test_dataset, batch_size=32, shuffle=True)"
   ]
  },
  {
   "cell_type": "code",
   "execution_count": null,
   "metadata": {},
   "outputs": [],
   "source": [
    "optimizer = optim.Adam(model.parameters(), lr=12e-5)\n",
    "criterion = torch.nn.MSELoss()\n",
    "num_epochs = 200\n",
    "\n",
    "writer = SummaryWriter()\n",
    "\n",
    "for epoch_index in range(num_epochs):\n",
    "    running_loss = 0.\n",
    "    train_loss = 0.\n",
    "\n",
    "    # Here, we use enumerate(training_loader) instead of\n",
    "    # iter(training_loader) so that we can track the batch\n",
    "    # index and do some intra-epoch reporting\n",
    "    for data in train_dataloader:\n",
    "        # Every data instance is an input + label pair\n",
    "        inputs, labels = data\n",
    "\n",
    "        # Zero your gradients for every batch!\n",
    "        optimizer.zero_grad()\n",
    "\n",
    "        # Make predictions for this batch\n",
    "        outputs = model(inputs)\n",
    "\n",
    "        # Compute the loss and its gradients\n",
    "        loss = criterion(outputs, labels.float().unsqueeze(-1))\n",
    "        loss.backward()\n",
    "\n",
    "        # Adjust learning weights\n",
    "        optimizer.step()\n",
    "\n",
    "        # Gather data and report\n",
    "        running_loss += loss.item()\n",
    "\n",
    "    train_loss = running_loss / len(train_dataloader) # loss per batch\n",
    "    writer.add_scalar('Train/loss', train_loss)\n",
    "\n",
    "    test_loss = 0.\n",
    "    model.eval()\n",
    "    with torch.no_grad():\n",
    "        for data in test_dataloader:\n",
    "            inputs, labels = data\n",
    "            outputs = model(inputs)\n",
    "            loss = criterion(outputs, labels.float().unsqueeze(-1))\n",
    "            test_loss += loss.item()\n",
    "    model.train()\n",
    "    test_loss /= len(test_dataloader)\n",
    "    writer.add_scalar('Test/loss', train_loss)"
   ]
  },
  {
   "cell_type": "code",
   "execution_count": null,
   "metadata": {},
   "outputs": [],
   "source": [
    "# Tempo de treinamento 24min18s\n",
    "from datetime import datetime\n",
    "torch.save(model.state_dict(), f\"nn_model_{datetime.now().isoformat()}\")"
   ]
  },
  {
   "cell_type": "code",
   "execution_count": null,
   "metadata": {},
   "outputs": [],
   "source": [
    "with torch.no_grad():\n",
    "    inputs = torch.tensor(x_test.values).float()\n",
    "    outputs = model(inputs).squeeze(-1)\n",
    "\n",
    "import matplotlib.pyplot as plt\n",
    "\n",
    "max_val = max(outputs.max(), outputs.max())\n",
    "min_val = min(y_test.min(), y_test.min())\n",
    "plt.plot([[min_val], [max_val]], [[min_val], [max_val]])\n",
    "plt.scatter(y_test, outputs, color='r')"
   ]
  },
  {
   "cell_type": "code",
   "execution_count": null,
   "metadata": {},
   "outputs": [],
   "source": [
    "from sklearn.metrics import r2_score\n",
    "\n",
    "f\"{r2_score(y_test, outputs)=} {sqrt(mean_squared_error(y_test, outputs))=}\""
   ]
  }
 ],
 "metadata": {
  "kernelspec": {
   "display_name": "MoLFormer",
   "language": "python",
   "name": "python3"
  },
  "language_info": {
   "codemirror_mode": {
    "name": "ipython",
    "version": 3
   },
   "file_extension": ".py",
   "mimetype": "text/x-python",
   "name": "python",
   "nbconvert_exporter": "python",
   "pygments_lexer": "ipython3",
   "version": "3.8.19"
  }
 },
 "nbformat": 4,
 "nbformat_minor": 2
}
