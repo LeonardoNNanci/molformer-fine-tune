{
 "cells": [
  {
   "cell_type": "code",
   "execution_count": 1,
   "metadata": {},
   "outputs": [],
   "source": [
    "import pandas as pd\n",
    "\n",
    "import torch\n",
    "from torch.utils.data import Dataset, DataLoader\n",
    "\n",
    "import seaborn\n",
    "\n",
    "import optuna\n",
    "\n",
    "from sklearn.metrics import r2_score\n",
    "\n",
    "from common import *"
   ]
  },
  {
   "cell_type": "markdown",
   "metadata": {},
   "source": [
    "#### Load data"
   ]
  },
  {
   "cell_type": "code",
   "execution_count": 2,
   "metadata": {},
   "outputs": [],
   "source": [
    "train_data = pd.read_csv(\"../../data/ld50/train.csv\")[[\"ld50\"]]\n",
    "test_data = pd.read_csv(\"../../data/ld50/test.csv\")[[\"ld50\"]]"
   ]
  },
  {
   "cell_type": "code",
   "execution_count": null,
   "metadata": {},
   "outputs": [],
   "source": [
    "class SmilesDataset(torch.utils.data.Dataset):\n",
    "    def __init__(self, data: pd.DataFrame, x_label: str, y_label: str):\n",
    "        self.X = data[x_label]\n",
    "        self.Y = data[y_label]\n",
    "\n",
    "    def __len__(self):\n",
    "        return len(self.Y)\n",
    "    \n",
    "    def __getitem__(self, index: int):\n",
    "        return self.X.iloc[index], self.Y.iloc[index]\n",
    "\n",
    "train_dataset = SmilesDataset(train_data, \"smiles\", \"ld50\")\n",
    "test_dataset = SmilesDataset(test_data, \"smiles\", \"ld50\")\n",
    "train_dataloader = DataLoader(train_dataset, batch_size=32, shuffle=True)\n",
    "test_dataloader = DataLoader(test_dataset, batch_size=32, shuffle=True)"
   ]
  },
  {
   "cell_type": "markdown",
   "metadata": {},
   "source": [
    "#### Load model and extend layers"
   ]
  },
  {
   "cell_type": "code",
   "execution_count": null,
   "metadata": {},
   "outputs": [],
   "source": [
    "MoLFormer, tokenizer = load_model()\n",
    "model = torch.nn.Sequential(\n",
    "    MoLFormer,\n",
    "    torch.nn.Linear(768, 1024),\n",
    "    torch.nn.LeakyReLU(),\n",
    "    torch.nn.Linear(1024, 1024),\n",
    "    torch.nn.LeakyReLU(),\n",
    "    torch.nn.Linear(1024, 1)\n",
    ")"
   ]
  }
 ],
 "metadata": {
  "kernelspec": {
   "display_name": "MoLFormer",
   "language": "python",
   "name": "python3"
  },
  "language_info": {
   "codemirror_mode": {
    "name": "ipython",
    "version": 3
   },
   "file_extension": ".py",
   "mimetype": "text/x-python",
   "name": "python",
   "nbconvert_exporter": "python",
   "pygments_lexer": "ipython3",
   "version": "3.8.19"
  }
 },
 "nbformat": 4,
 "nbformat_minor": 2
}
