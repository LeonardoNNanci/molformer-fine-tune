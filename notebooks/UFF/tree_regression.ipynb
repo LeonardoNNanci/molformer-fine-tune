{
 "cells": [
  {
   "cell_type": "code",
   "execution_count": 1,
   "metadata": {},
   "outputs": [],
   "source": [
    "import pandas as pd\n",
    "\n",
    "import xgboost as xgb\n",
    "\n",
    "import seaborn as sns\n",
    "\n",
    "import optuna\n",
    "import optuna_integration\n",
    "\n",
    "from sklearn.metrics import mean_squared_error\n",
    "\n",
    "from math import sqrt\n",
    "\n",
    "from datetime import datetime"
   ]
  },
  {
   "cell_type": "markdown",
   "metadata": {},
   "source": [
    "#### Load data"
   ]
  },
  {
   "cell_type": "code",
   "execution_count": 2,
   "metadata": {},
   "outputs": [
    {
     "data": {
      "text/plain": [
       "(              ld50\n",
       " count  2666.000000\n",
       " mean      2.402887\n",
       " std       0.892100\n",
       " min       0.830000\n",
       " 5%        1.361634\n",
       " 50%       2.198694\n",
       " 95%       4.234325\n",
       " max       7.826102,\n",
       "               ld50\n",
       " count  7997.000000\n",
       " mean      2.422640\n",
       " std       0.876731\n",
       " min       0.334270\n",
       " 5%        1.374035\n",
       " 50%       2.245123\n",
       " 95%       4.208311\n",
       " max       7.427121)"
      ]
     },
     "execution_count": 2,
     "metadata": {},
     "output_type": "execute_result"
    }
   ],
   "source": [
    "Y_train = pd.read_csv(\"../../data/ld50/train.csv\")[[\"ld50\"]]\n",
    "Y_test = pd.read_csv(\"../../data/ld50/test.csv\")[[\"ld50\"]]\n",
    "\n",
    "X_train = pd.read_csv(\"train_embeddings.csv\")\n",
    "X_test = pd.read_csv(\"test_embeddings.csv\")\n",
    "\n",
    "Y_test.describe(percentiles=[0.05, 0.5, 0.95]), Y_train.describe(percentiles=[0.05, 0.5, 0.95])"
   ]
  },
  {
   "cell_type": "code",
   "execution_count": 3,
   "metadata": {},
   "outputs": [],
   "source": [
    "import numpy as np\n",
    "# train_mask = Y_train < np.percentile(Y_train, 95)\n",
    "# filtered_y_train = Y_train[train_mask]\n",
    "# filtered_x_train = X_train[train_mask]\n",
    "\n",
    "dtrain = xgb.DMatrix(X_train, Y_train)\n",
    "dtest = xgb.DMatrix(X_test, Y_test)"
   ]
  },
  {
   "cell_type": "code",
   "execution_count": 4,
   "metadata": {},
   "outputs": [
    {
     "data": {
      "text/plain": [
       "<Axes: >"
      ]
     },
     "execution_count": 4,
     "metadata": {},
     "output_type": "execute_result"
    },
    {
     "data": {
      "image/png": "[encoded data removed]",
      "text/plain": [
       "<Figure size 640x480 with 1 Axes>"
      ]
     },
     "metadata": {},
     "output_type": "display_data"
    }
   ],
   "source": [
    "plot_df = Y_train.join(Y_test, lsuffix=\"_train\", rsuffix=\"_test\")\n",
    "sns.boxplot(plot_df)"
   ]
  },
  {
   "cell_type": "markdown",
   "metadata": {},
   "source": [
    "#### Train"
   ]
  },
  {
   "cell_type": "code",
   "execution_count": 7,
   "metadata": {},
   "outputs": [
    {
     "name": "stderr",
     "output_type": "stream",
     "text": [
      "[I 2024-06-17 17:13:54,363] A new study created in RDB with name: Regression2024-06-17T17:13:54.336578\n"
     ]
    },
    {
     "name": "stdout",
     "output_type": "stream",
     "text": [
      "[0]\ttest-rmse:0.88018\n",
      "[911]\ttest-rmse:0.58214\n"
     ]
    },
    {
     "name": "stderr",
     "output_type": "stream",
     "text": [
      "[I 2024-06-17 17:14:31,349] Trial 0 finished with value: 0.5821387224227892 and parameters: {'max_depth': 6, 'learning_rate': 0.05673413527992878, 'early_stop': 52}. Best is trial 0 with value: 0.5821387224227892.\n"
     ]
    },
    {
     "name": "stdout",
     "output_type": "stream",
     "text": [
      "[0]\ttest-rmse:0.88132\n",
      "[1851]\ttest-rmse:0.59167\n"
     ]
    },
    {
     "name": "stderr",
     "output_type": "stream",
     "text": [
      "[I 2024-06-17 17:15:25,140] Trial 1 finished with value: 0.5916826217094097 and parameters: {'max_depth': 3, 'learning_rate': 0.09099350690413194, 'early_stop': 83}. Best is trial 0 with value: 0.5821387224227892.\n"
     ]
    },
    {
     "name": "stdout",
     "output_type": "stream",
     "text": [
      "[0]\ttest-rmse:0.88352\n",
      "[1607]\ttest-rmse:0.57811\n"
     ]
    },
    {
     "name": "stderr",
     "output_type": "stream",
     "text": [
      "[I 2024-06-17 17:16:24,383] Trial 2 finished with value: 0.5781119355141562 and parameters: {'max_depth': 6, 'learning_rate': 0.040576587703086885, 'early_stop': 87}. Best is trial 2 with value: 0.5781119355141562.\n"
     ]
    },
    {
     "name": "stdout",
     "output_type": "stream",
     "text": [
      "[0]\ttest-rmse:0.87272\n",
      "[946]\ttest-rmse:0.59043\n"
     ]
    },
    {
     "name": "stderr",
     "output_type": "stream",
     "text": [
      "[I 2024-06-17 17:16:52,867] Trial 3 finished with value: 0.5904300285658617 and parameters: {'max_depth': 6, 'learning_rate': 0.09389702440852099, 'early_stop': 95}. Best is trial 2 with value: 0.5781119355141562.\n"
     ]
    },
    {
     "name": "stdout",
     "output_type": "stream",
     "text": [
      "[0]\ttest-rmse:0.88425\n",
      "[4248]\ttest-rmse:0.60136\n"
     ]
    },
    {
     "name": "stderr",
     "output_type": "stream",
     "text": [
      "[I 2024-06-17 17:19:59,681] Trial 4 finished with value: 0.6013616156662487 and parameters: {'max_depth': 2, 'learning_rate': 0.0847557440479966, 'early_stop': 96}. Best is trial 2 with value: 0.5781119355141562.\n"
     ]
    },
    {
     "name": "stdout",
     "output_type": "stream",
     "text": [
      "[0]\ttest-rmse:0.88833\n"
     ]
    },
    {
     "name": "stderr",
     "output_type": "stream",
     "text": [
      "[I 2024-06-17 17:19:59,849] Trial 5 pruned. Trial was pruned at iteration 0.\n"
     ]
    },
    {
     "name": "stdout",
     "output_type": "stream",
     "text": [
      "[0]\ttest-rmse:0.89030\n"
     ]
    },
    {
     "name": "stderr",
     "output_type": "stream",
     "text": [
      "[I 2024-06-17 17:19:59,890] Trial 6 pruned. Trial was pruned at iteration 0.\n"
     ]
    },
    {
     "name": "stdout",
     "output_type": "stream",
     "text": [
      "[0]\ttest-rmse:0.87295\n"
     ]
    },
    {
     "name": "stderr",
     "output_type": "stream",
     "text": [
      "[I 2024-06-17 17:20:12,249] Trial 7 pruned. Trial was pruned at iteration 410.\n"
     ]
    },
    {
     "name": "stdout",
     "output_type": "stream",
     "text": [
      "[0]\ttest-rmse:0.88069\n",
      "[1526]\ttest-rmse:0.57388\n"
     ]
    },
    {
     "name": "stderr",
     "output_type": "stream",
     "text": [
      "[I 2024-06-17 17:20:58,501] Trial 8 finished with value: 0.5738812221013663 and parameters: {'max_depth': 5, 'learning_rate': 0.06779734636883228, 'early_stop': 75}. Best is trial 8 with value: 0.5738812221013663.\n"
     ]
    },
    {
     "name": "stdout",
     "output_type": "stream",
     "text": [
      "[0]\ttest-rmse:0.87698\n"
     ]
    },
    {
     "name": "stderr",
     "output_type": "stream",
     "text": [
      "[I 2024-06-17 17:21:09,718] Trial 9 pruned. Trial was pruned at iteration 371.\n",
      "[I 2024-06-17 17:21:09,775] Trial 10 pruned. Trial was pruned at iteration 0.\n",
      "[I 2024-06-17 17:21:09,836] Trial 11 pruned. Trial was pruned at iteration 0.\n",
      "[I 2024-06-17 17:21:09,903] Trial 12 pruned. Trial was pruned at iteration 0.\n"
     ]
    },
    {
     "name": "stdout",
     "output_type": "stream",
     "text": [
      "[0]\ttest-rmse:0.89207\n"
     ]
    },
    {
     "name": "stderr",
     "output_type": "stream",
     "text": [
      "[I 2024-06-17 17:21:09,966] Trial 13 pruned. Trial was pruned at iteration 0.\n"
     ]
    },
    {
     "name": "stdout",
     "output_type": "stream",
     "text": [
      "[0]\ttest-rmse:0.88147\n"
     ]
    },
    {
     "name": "stderr",
     "output_type": "stream",
     "text": [
      "[I 2024-06-17 17:21:10,023] Trial 14 pruned. Trial was pruned at iteration 0.\n",
      "[I 2024-06-17 17:21:10,084] Trial 15 pruned. Trial was pruned at iteration 0.\n"
     ]
    },
    {
     "name": "stdout",
     "output_type": "stream",
     "text": [
      "[0]\ttest-rmse:0.88045\n"
     ]
    },
    {
     "name": "stderr",
     "output_type": "stream",
     "text": [
      "[I 2024-06-17 17:21:12,635] Trial 16 pruned. Trial was pruned at iteration 115.\n",
      "[I 2024-06-17 17:21:12,679] Trial 17 pruned. Trial was pruned at iteration 0.\n",
      "[I 2024-06-17 17:21:12,729] Trial 18 pruned. Trial was pruned at iteration 0.\n"
     ]
    },
    {
     "name": "stdout",
     "output_type": "stream",
     "text": [
      "[0]\ttest-rmse:0.87924\n",
      "[705]\ttest-rmse:0.58306\n"
     ]
    },
    {
     "name": "stderr",
     "output_type": "stream",
     "text": [
      "[I 2024-06-17 17:21:29,683] Trial 19 finished with value: 0.5830395703818616 and parameters: {'max_depth': 5, 'learning_rate': 0.07669899471515296, 'early_stop': 28}. Best is trial 8 with value: 0.5738812221013663.\n"
     ]
    },
    {
     "name": "stdout",
     "output_type": "stream",
     "text": [
      "[0]\ttest-rmse:0.88462\n"
     ]
    },
    {
     "name": "stderr",
     "output_type": "stream",
     "text": [
      "[I 2024-06-17 17:21:29,737] Trial 20 pruned. Trial was pruned at iteration 0.\n",
      "[I 2024-06-17 17:21:29,812] Trial 21 pruned. Trial was pruned at iteration 0.\n"
     ]
    },
    {
     "name": "stdout",
     "output_type": "stream",
     "text": [
      "[0]\ttest-rmse:0.88189\n"
     ]
    },
    {
     "name": "stderr",
     "output_type": "stream",
     "text": [
      "[I 2024-06-17 17:21:29,890] Trial 22 pruned. Trial was pruned at iteration 0.\n"
     ]
    },
    {
     "name": "stdout",
     "output_type": "stream",
     "text": [
      "[0]\ttest-rmse:0.87852\n"
     ]
    },
    {
     "name": "stderr",
     "output_type": "stream",
     "text": [
      "[I 2024-06-17 17:21:40,245] Trial 23 pruned. Trial was pruned at iteration 345.\n"
     ]
    },
    {
     "name": "stdout",
     "output_type": "stream",
     "text": [
      "[0]\ttest-rmse:0.87828\n"
     ]
    },
    {
     "name": "stderr",
     "output_type": "stream",
     "text": [
      "[I 2024-06-17 17:21:43,485] Trial 24 pruned. Trial was pruned at iteration 141.\n"
     ]
    },
    {
     "name": "stdout",
     "output_type": "stream",
     "text": [
      "[0]\ttest-rmse:0.88325\n"
     ]
    },
    {
     "name": "stderr",
     "output_type": "stream",
     "text": [
      "[I 2024-06-17 17:21:43,583] Trial 25 pruned. Trial was pruned at iteration 0.\n",
      "[I 2024-06-17 17:21:43,659] Trial 26 pruned. Trial was pruned at iteration 0.\n"
     ]
    },
    {
     "name": "stdout",
     "output_type": "stream",
     "text": [
      "[0]\ttest-rmse:0.88742\n"
     ]
    },
    {
     "name": "stderr",
     "output_type": "stream",
     "text": [
      "[I 2024-06-17 17:21:43,722] Trial 27 pruned. Trial was pruned at iteration 0.\n"
     ]
    },
    {
     "name": "stdout",
     "output_type": "stream",
     "text": [
      "[0]\ttest-rmse:0.87865\n"
     ]
    },
    {
     "name": "stderr",
     "output_type": "stream",
     "text": [
      "[I 2024-06-17 17:21:52,618] Trial 28 pruned. Trial was pruned at iteration 292.\n"
     ]
    },
    {
     "name": "stdout",
     "output_type": "stream",
     "text": [
      "[0]\ttest-rmse:0.88782\n"
     ]
    },
    {
     "name": "stderr",
     "output_type": "stream",
     "text": [
      "[I 2024-06-17 17:21:52,697] Trial 29 pruned. Trial was pruned at iteration 0.\n"
     ]
    },
    {
     "name": "stdout",
     "output_type": "stream",
     "text": [
      "[0]\ttest-rmse:0.87879\n"
     ]
    },
    {
     "name": "stderr",
     "output_type": "stream",
     "text": [
      "[I 2024-06-17 17:21:56,534] Trial 30 pruned. Trial was pruned at iteration 172.\n"
     ]
    },
    {
     "name": "stdout",
     "output_type": "stream",
     "text": [
      "[0]\ttest-rmse:0.88063\n"
     ]
    },
    {
     "name": "stderr",
     "output_type": "stream",
     "text": [
      "[I 2024-06-17 17:21:56,610] Trial 31 pruned. Trial was pruned at iteration 1.\n"
     ]
    },
    {
     "name": "stdout",
     "output_type": "stream",
     "text": [
      "[0]\ttest-rmse:0.87744\n",
      "[742]\ttest-rmse:0.58255\n"
     ]
    },
    {
     "name": "stderr",
     "output_type": "stream",
     "text": [
      "[I 2024-06-17 17:22:15,326] Trial 32 finished with value: 0.5825451576757746 and parameters: {'max_depth': 5, 'learning_rate': 0.08792684666414922, 'early_stop': 25}. Best is trial 8 with value: 0.5738812221013663.\n"
     ]
    },
    {
     "name": "stdout",
     "output_type": "stream",
     "text": [
      "[0]\ttest-rmse:0.87554\n"
     ]
    },
    {
     "name": "stderr",
     "output_type": "stream",
     "text": [
      "[I 2024-06-17 17:22:19,652] Trial 33 pruned. Trial was pruned at iteration 185.\n"
     ]
    },
    {
     "name": "stdout",
     "output_type": "stream",
     "text": [
      "[0]\ttest-rmse:0.87339\n",
      "[533]\ttest-rmse:0.58553\n"
     ]
    },
    {
     "name": "stderr",
     "output_type": "stream",
     "text": [
      "[I 2024-06-17 17:22:36,073] Trial 34 finished with value: 0.5855303627014662 and parameters: {'max_depth': 6, 'learning_rate': 0.09049202252632244, 'early_stop': 21}. Best is trial 8 with value: 0.5738812221013663.\n"
     ]
    },
    {
     "name": "stdout",
     "output_type": "stream",
     "text": [
      "[0]\ttest-rmse:0.87422\n"
     ]
    },
    {
     "name": "stderr",
     "output_type": "stream",
     "text": [
      "[I 2024-06-17 17:22:49,958] Trial 35 pruned. Trial was pruned at iteration 467.\n",
      "[I 2024-06-17 17:22:50,014] Trial 36 pruned. Trial was pruned at iteration 0.\n"
     ]
    },
    {
     "name": "stdout",
     "output_type": "stream",
     "text": [
      "[0]\ttest-rmse:0.87223\n"
     ]
    },
    {
     "name": "stderr",
     "output_type": "stream",
     "text": [
      "[I 2024-06-17 17:23:02,388] Trial 37 pruned. Trial was pruned at iteration 419.\n"
     ]
    },
    {
     "name": "stdout",
     "output_type": "stream",
     "text": [
      "[0]\ttest-rmse:0.87749\n"
     ]
    },
    {
     "name": "stderr",
     "output_type": "stream",
     "text": [
      "[I 2024-06-17 17:23:07,621] Trial 38 pruned. Trial was pruned at iteration 245.\n"
     ]
    },
    {
     "name": "stdout",
     "output_type": "stream",
     "text": [
      "[0]\ttest-rmse:0.88859\n"
     ]
    },
    {
     "name": "stderr",
     "output_type": "stream",
     "text": [
      "[I 2024-06-17 17:23:07,669] Trial 39 pruned. Trial was pruned at iteration 0.\n"
     ]
    },
    {
     "name": "stdout",
     "output_type": "stream",
     "text": [
      "[0]\ttest-rmse:0.88108\n"
     ]
    },
    {
     "name": "stderr",
     "output_type": "stream",
     "text": [
      "[I 2024-06-17 17:23:07,757] Trial 40 pruned. Trial was pruned at iteration 0.\n"
     ]
    },
    {
     "name": "stdout",
     "output_type": "stream",
     "text": [
      "[0]\ttest-rmse:0.87943\n"
     ]
    },
    {
     "name": "stderr",
     "output_type": "stream",
     "text": [
      "[I 2024-06-17 17:23:09,389] Trial 41 pruned. Trial was pruned at iteration 72.\n"
     ]
    },
    {
     "name": "stdout",
     "output_type": "stream",
     "text": [
      "[0]\ttest-rmse:0.87833\n",
      "[670]\ttest-rmse:0.58135\n"
     ]
    },
    {
     "name": "stderr",
     "output_type": "stream",
     "text": [
      "[I 2024-06-17 17:23:25,367] Trial 42 finished with value: 0.5814048995641459 and parameters: {'max_depth': 5, 'learning_rate': 0.0823621518244942, 'early_stop': 27}. Best is trial 8 with value: 0.5738812221013663.\n",
      "[I 2024-06-17 17:23:25,433] Trial 43 pruned. Trial was pruned at iteration 0.\n"
     ]
    },
    {
     "name": "stdout",
     "output_type": "stream",
     "text": [
      "[0]\ttest-rmse:0.88531\n"
     ]
    },
    {
     "name": "stderr",
     "output_type": "stream",
     "text": [
      "[I 2024-06-17 17:23:25,491] Trial 44 pruned. Trial was pruned at iteration 0.\n"
     ]
    },
    {
     "name": "stdout",
     "output_type": "stream",
     "text": [
      "[0]\ttest-rmse:0.87542\n"
     ]
    },
    {
     "name": "stderr",
     "output_type": "stream",
     "text": [
      "[I 2024-06-17 17:23:33,665] Trial 45 pruned. Trial was pruned at iteration 275.\n"
     ]
    },
    {
     "name": "stdout",
     "output_type": "stream",
     "text": [
      "[0]\ttest-rmse:0.87662\n"
     ]
    },
    {
     "name": "stderr",
     "output_type": "stream",
     "text": [
      "[I 2024-06-17 17:23:40,555] Trial 46 pruned. Trial was pruned at iteration 317.\n"
     ]
    },
    {
     "name": "stdout",
     "output_type": "stream",
     "text": [
      "[0]\ttest-rmse:0.87787\n"
     ]
    },
    {
     "name": "stderr",
     "output_type": "stream",
     "text": [
      "[I 2024-06-17 17:23:58,125] Trial 47 pruned. Trial was pruned at iteration 580.\n"
     ]
    },
    {
     "name": "stdout",
     "output_type": "stream",
     "text": [
      "[0]\ttest-rmse:0.88779\n"
     ]
    },
    {
     "name": "stderr",
     "output_type": "stream",
     "text": [
      "[I 2024-06-17 17:23:58,192] Trial 48 pruned. Trial was pruned at iteration 0.\n"
     ]
    },
    {
     "name": "stdout",
     "output_type": "stream",
     "text": [
      "[0]\ttest-rmse:0.88330\n"
     ]
    },
    {
     "name": "stderr",
     "output_type": "stream",
     "text": [
      "[I 2024-06-17 17:23:58,249] Trial 49 pruned. Trial was pruned at iteration 0.\n",
      "[I 2024-06-17 17:23:58,299] Trial 50 pruned. Trial was pruned at iteration 0.\n"
     ]
    },
    {
     "name": "stdout",
     "output_type": "stream",
     "text": [
      "[0]\ttest-rmse:0.87964\n"
     ]
    },
    {
     "name": "stderr",
     "output_type": "stream",
     "text": [
      "[I 2024-06-17 17:23:58,682] Trial 51 pruned. Trial was pruned at iteration 15.\n"
     ]
    },
    {
     "name": "stdout",
     "output_type": "stream",
     "text": [
      "[0]\ttest-rmse:0.87802\n",
      "[561]\ttest-rmse:0.58127\n"
     ]
    },
    {
     "name": "stderr",
     "output_type": "stream",
     "text": [
      "[I 2024-06-17 17:24:12,068] Trial 52 finished with value: 0.5812728073293555 and parameters: {'max_depth': 5, 'learning_rate': 0.08428587958297962, 'early_stop': 28}. Best is trial 8 with value: 0.5738812221013663.\n"
     ]
    },
    {
     "name": "stdout",
     "output_type": "stream",
     "text": [
      "[0]\ttest-rmse:0.87817\n"
     ]
    },
    {
     "name": "stderr",
     "output_type": "stream",
     "text": [
      "[I 2024-06-17 17:24:13,142] Trial 53 pruned. Trial was pruned at iteration 45.\n"
     ]
    },
    {
     "name": "stdout",
     "output_type": "stream",
     "text": [
      "[0]\ttest-rmse:0.87744\n"
     ]
    },
    {
     "name": "stderr",
     "output_type": "stream",
     "text": [
      "[I 2024-06-17 17:24:14,974] Trial 54 pruned. Trial was pruned at iteration 83.\n"
     ]
    },
    {
     "name": "stdout",
     "output_type": "stream",
     "text": [
      "[0]\ttest-rmse:0.87199\n"
     ]
    },
    {
     "name": "stderr",
     "output_type": "stream",
     "text": [
      "[I 2024-06-17 17:24:23,212] Trial 55 pruned. Trial was pruned at iteration 277.\n"
     ]
    },
    {
     "name": "stdout",
     "output_type": "stream",
     "text": [
      "[0]\ttest-rmse:0.87695\n"
     ]
    },
    {
     "name": "stderr",
     "output_type": "stream",
     "text": [
      "[I 2024-06-17 17:24:25,327] Trial 56 pruned. Trial was pruned at iteration 93.\n"
     ]
    },
    {
     "name": "stdout",
     "output_type": "stream",
     "text": [
      "[0]\ttest-rmse:0.88132\n"
     ]
    },
    {
     "name": "stderr",
     "output_type": "stream",
     "text": [
      "[I 2024-06-17 17:24:25,380] Trial 57 pruned. Trial was pruned at iteration 0.\n",
      "[I 2024-06-17 17:24:25,446] Trial 58 pruned. Trial was pruned at iteration 0.\n"
     ]
    },
    {
     "name": "stdout",
     "output_type": "stream",
     "text": [
      "[0]\ttest-rmse:0.87509\n"
     ]
    },
    {
     "name": "stderr",
     "output_type": "stream",
     "text": [
      "[I 2024-06-17 17:24:39,286] Trial 59 pruned. Trial was pruned at iteration 456.\n"
     ]
    },
    {
     "name": "stdout",
     "output_type": "stream",
     "text": [
      "[0]\ttest-rmse:0.88580\n"
     ]
    },
    {
     "name": "stderr",
     "output_type": "stream",
     "text": [
      "[I 2024-06-17 17:24:39,354] Trial 60 pruned. Trial was pruned at iteration 0.\n"
     ]
    },
    {
     "name": "stdout",
     "output_type": "stream",
     "text": [
      "[0]\ttest-rmse:0.87780\n"
     ]
    },
    {
     "name": "stderr",
     "output_type": "stream",
     "text": [
      "[I 2024-06-17 17:24:40,878] Trial 61 pruned. Trial was pruned at iteration 66.\n",
      "[I 2024-06-17 17:24:40,939] Trial 62 pruned. Trial was pruned at iteration 0.\n"
     ]
    },
    {
     "name": "stdout",
     "output_type": "stream",
     "text": [
      "[0]\ttest-rmse:0.87565\n"
     ]
    },
    {
     "name": "stderr",
     "output_type": "stream",
     "text": [
      "[I 2024-06-17 17:24:54,642] Trial 63 pruned. Trial was pruned at iteration 456.\n",
      "[I 2024-06-17 17:24:54,700] Trial 64 pruned. Trial was pruned at iteration 0.\n"
     ]
    },
    {
     "name": "stdout",
     "output_type": "stream",
     "text": [
      "[0]\ttest-rmse:0.88173\n"
     ]
    },
    {
     "name": "stderr",
     "output_type": "stream",
     "text": [
      "[I 2024-06-17 17:24:54,763] Trial 65 pruned. Trial was pruned at iteration 0.\n"
     ]
    },
    {
     "name": "stdout",
     "output_type": "stream",
     "text": [
      "[0]\ttest-rmse:0.87810\n"
     ]
    },
    {
     "name": "stderr",
     "output_type": "stream",
     "text": [
      "[I 2024-06-17 17:25:03,045] Trial 66 pruned. Trial was pruned at iteration 281.\n",
      "[I 2024-06-17 17:25:03,110] Trial 67 pruned. Trial was pruned at iteration 0.\n"
     ]
    },
    {
     "name": "stdout",
     "output_type": "stream",
     "text": [
      "[0]\ttest-rmse:0.87710\n",
      "[761]\ttest-rmse:0.58242\n"
     ]
    },
    {
     "name": "stderr",
     "output_type": "stream",
     "text": [
      "[I 2024-06-17 17:25:26,832] Trial 68 finished with value: 0.5824281668319341 and parameters: {'max_depth': 6, 'learning_rate': 0.07188991339434497, 'early_stop': 75}. Best is trial 8 with value: 0.5738812221013663.\n",
      "[I 2024-06-17 17:25:26,914] Trial 69 pruned. Trial was pruned at iteration 0.\n"
     ]
    },
    {
     "name": "stdout",
     "output_type": "stream",
     "text": [
      "[0]\ttest-rmse:0.87705\n"
     ]
    },
    {
     "name": "stderr",
     "output_type": "stream",
     "text": [
      "[I 2024-06-17 17:25:37,818] Trial 70 pruned. Trial was pruned at iteration 365.\n"
     ]
    },
    {
     "name": "stdout",
     "output_type": "stream",
     "text": [
      "[0]\ttest-rmse:0.87586\n"
     ]
    },
    {
     "name": "stderr",
     "output_type": "stream",
     "text": [
      "[I 2024-06-17 17:25:52,006] Trial 71 pruned. Trial was pruned at iteration 474.\n"
     ]
    },
    {
     "name": "stdout",
     "output_type": "stream",
     "text": [
      "[0]\ttest-rmse:0.87353\n"
     ]
    },
    {
     "name": "stderr",
     "output_type": "stream",
     "text": [
      "[I 2024-06-17 17:26:00,602] Trial 72 pruned. Trial was pruned at iteration 281.\n"
     ]
    },
    {
     "name": "stdout",
     "output_type": "stream",
     "text": [
      "[0]\ttest-rmse:0.88227\n"
     ]
    },
    {
     "name": "stderr",
     "output_type": "stream",
     "text": [
      "[I 2024-06-17 17:26:00,671] Trial 73 pruned. Trial was pruned at iteration 0.\n"
     ]
    },
    {
     "name": "stdout",
     "output_type": "stream",
     "text": [
      "[0]\ttest-rmse:0.87478\n"
     ]
    },
    {
     "name": "stderr",
     "output_type": "stream",
     "text": [
      "[I 2024-06-17 17:26:11,767] Trial 74 pruned. Trial was pruned at iteration 370.\n",
      "[I 2024-06-17 17:26:11,819] Trial 75 pruned. Trial was pruned at iteration 0.\n",
      "[I 2024-06-17 17:26:11,886] Trial 76 pruned. Trial was pruned at iteration 0.\n",
      "[I 2024-06-17 17:26:11,937] Trial 77 pruned. Trial was pruned at iteration 0.\n",
      "[I 2024-06-17 17:26:11,999] Trial 78 pruned. Trial was pruned at iteration 0.\n"
     ]
    },
    {
     "name": "stdout",
     "output_type": "stream",
     "text": [
      "[0]\ttest-rmse:0.87941\n"
     ]
    },
    {
     "name": "stderr",
     "output_type": "stream",
     "text": [
      "[I 2024-06-17 17:26:12,059] Trial 79 pruned. Trial was pruned at iteration 0.\n"
     ]
    },
    {
     "name": "stdout",
     "output_type": "stream",
     "text": [
      "[0]\ttest-rmse:0.87609\n",
      "[944]\ttest-rmse:0.58245\n"
     ]
    },
    {
     "name": "stderr",
     "output_type": "stream",
     "text": [
      "[I 2024-06-17 17:26:42,223] Trial 80 finished with value: 0.5824396713268775 and parameters: {'max_depth': 6, 'learning_rate': 0.07692868684240325, 'early_stop': 93}. Best is trial 8 with value: 0.5738812221013663.\n"
     ]
    },
    {
     "name": "stdout",
     "output_type": "stream",
     "text": [
      "[0]\ttest-rmse:0.87523\n"
     ]
    },
    {
     "name": "stderr",
     "output_type": "stream",
     "text": [
      "[I 2024-06-17 17:26:50,926] Trial 81 pruned. Trial was pruned at iteration 284.\n"
     ]
    },
    {
     "name": "stdout",
     "output_type": "stream",
     "text": [
      "[0]\ttest-rmse:0.87741\n",
      "[934]\ttest-rmse:0.58035\n"
     ]
    },
    {
     "name": "stderr",
     "output_type": "stream",
     "text": [
      "[I 2024-06-17 17:27:21,102] Trial 82 finished with value: 0.5803473640618285 and parameters: {'max_depth': 6, 'learning_rate': 0.07036656132971618, 'early_stop': 82}. Best is trial 8 with value: 0.5738812221013663.\n"
     ]
    },
    {
     "name": "stdout",
     "output_type": "stream",
     "text": [
      "[0]\ttest-rmse:0.87746\n",
      "[934]\ttest-rmse:0.58039\n"
     ]
    },
    {
     "name": "stderr",
     "output_type": "stream",
     "text": [
      "[I 2024-06-17 17:27:51,476] Trial 83 finished with value: 0.5803929145180138 and parameters: {'max_depth': 6, 'learning_rate': 0.07011239580000872, 'early_stop': 82}. Best is trial 8 with value: 0.5738812221013663.\n"
     ]
    },
    {
     "name": "stdout",
     "output_type": "stream",
     "text": [
      "[0]\ttest-rmse:0.87733\n"
     ]
    },
    {
     "name": "stderr",
     "output_type": "stream",
     "text": [
      "[I 2024-06-17 17:28:20,974] Trial 84 pruned. Trial was pruned at iteration 912.\n"
     ]
    },
    {
     "name": "stdout",
     "output_type": "stream",
     "text": [
      "[0]\ttest-rmse:0.87613\n",
      "[941]\ttest-rmse:0.57994\n"
     ]
    },
    {
     "name": "stderr",
     "output_type": "stream",
     "text": [
      "[I 2024-06-17 17:28:51,184] Trial 85 finished with value: 0.5799448802748343 and parameters: {'max_depth': 6, 'learning_rate': 0.0767369184298061, 'early_stop': 90}. Best is trial 8 with value: 0.5738812221013663.\n",
      "[I 2024-06-17 17:28:51,326] Trial 86 pruned. Trial was pruned at iteration 0.\n",
      "[I 2024-06-17 17:28:51,414] Trial 87 pruned. Trial was pruned at iteration 0.\n"
     ]
    },
    {
     "name": "stdout",
     "output_type": "stream",
     "text": [
      "[0]\ttest-rmse:0.87840\n"
     ]
    },
    {
     "name": "stderr",
     "output_type": "stream",
     "text": [
      "[I 2024-06-17 17:28:51,506] Trial 88 pruned. Trial was pruned at iteration 0.\n"
     ]
    },
    {
     "name": "stdout",
     "output_type": "stream",
     "text": [
      "[0]\ttest-rmse:0.87770\n"
     ]
    },
    {
     "name": "stderr",
     "output_type": "stream",
     "text": [
      "[I 2024-06-17 17:28:51,653] Trial 89 pruned. Trial was pruned at iteration 1.\n"
     ]
    },
    {
     "name": "stdout",
     "output_type": "stream",
     "text": [
      "[0]\ttest-rmse:0.87677\n",
      "[931]\ttest-rmse:0.57981\n"
     ]
    },
    {
     "name": "stderr",
     "output_type": "stream",
     "text": [
      "[I 2024-06-17 17:29:21,968] Trial 90 finished with value: 0.5798140320457879 and parameters: {'max_depth': 6, 'learning_rate': 0.07353197681768595, 'early_stop': 80}. Best is trial 8 with value: 0.5738812221013663.\n"
     ]
    },
    {
     "name": "stdout",
     "output_type": "stream",
     "text": [
      "[0]\ttest-rmse:0.87661\n"
     ]
    },
    {
     "name": "stderr",
     "output_type": "stream",
     "text": [
      "[I 2024-06-17 17:29:44,935] Trial 91 pruned. Trial was pruned at iteration 717.\n"
     ]
    },
    {
     "name": "stdout",
     "output_type": "stream",
     "text": [
      "[0]\ttest-rmse:0.87717\n"
     ]
    },
    {
     "name": "stderr",
     "output_type": "stream",
     "text": [
      "[I 2024-06-17 17:29:45,177] Trial 92 pruned. Trial was pruned at iteration 4.\n"
     ]
    },
    {
     "name": "stdout",
     "output_type": "stream",
     "text": [
      "[0]\ttest-rmse:0.87568\n"
     ]
    },
    {
     "name": "stderr",
     "output_type": "stream",
     "text": [
      "[I 2024-06-17 17:29:52,214] Trial 93 pruned. Trial was pruned at iteration 239.\n"
     ]
    },
    {
     "name": "stdout",
     "output_type": "stream",
     "text": [
      "[0]\ttest-rmse:0.87644\n"
     ]
    },
    {
     "name": "stderr",
     "output_type": "stream",
     "text": [
      "[I 2024-06-17 17:30:04,850] Trial 94 pruned. Trial was pruned at iteration 419.\n",
      "[I 2024-06-17 17:30:04,943] Trial 95 pruned. Trial was pruned at iteration 0.\n"
     ]
    },
    {
     "name": "stdout",
     "output_type": "stream",
     "text": [
      "[0]\ttest-rmse:0.88510\n"
     ]
    },
    {
     "name": "stderr",
     "output_type": "stream",
     "text": [
      "[I 2024-06-17 17:30:05,047] Trial 96 pruned. Trial was pruned at iteration 0.\n"
     ]
    },
    {
     "name": "stdout",
     "output_type": "stream",
     "text": [
      "[0]\ttest-rmse:0.88187\n"
     ]
    },
    {
     "name": "stderr",
     "output_type": "stream",
     "text": [
      "[I 2024-06-17 17:30:05,144] Trial 97 pruned. Trial was pruned at iteration 0.\n"
     ]
    },
    {
     "name": "stdout",
     "output_type": "stream",
     "text": [
      "[0]\ttest-rmse:0.87753\n"
     ]
    },
    {
     "name": "stderr",
     "output_type": "stream",
     "text": [
      "[I 2024-06-17 17:30:05,243] Trial 98 pruned. Trial was pruned at iteration 0.\n",
      "[I 2024-06-17 17:30:05,340] Trial 99 pruned. Trial was pruned at iteration 0.\n"
     ]
    }
   ],
   "source": [
    "best_model = None\n",
    "best_eval_metric = float(\"inf\")\n",
    "\n",
    "def objective(trial):\n",
    "    global best_model\n",
    "    global best_eval_metric\n",
    "\n",
    "    num_rounds = 5000\n",
    "    param = {\n",
    "        'verbosity': 0,\n",
    "        'objective': 'reg:squarederror',\n",
    "        'eval_metric': 'rmse',\n",
    "        'max_depth': trial.suggest_int('max_depth', 2, 6), \n",
    "        'learning_rate': trial.suggest_float('learning_rate', 1e-5, 1e-1),\n",
    "        'subsample': 0.9,\n",
    "        'colsample_bytree': 0.5,\n",
    "    }\n",
    "\n",
    "    progress = dict()\n",
    "    evallist = [(dtest, 'test')]\n",
    "    bst = xgb.train(param, dtrain, num_rounds, evals=evallist,\n",
    "                    early_stopping_rounds=trial.suggest_int('early_stop', 10, 100), \n",
    "                    verbose_eval=num_rounds, \n",
    "                    evals_result=progress,\n",
    "                    callbacks=[optuna_integration.XGBoostPruningCallback(trial, 'test-rmse')])\n",
    "\n",
    "    y = bst.predict(dtest)\n",
    "    eval_metric = sqrt(mean_squared_error(Y_test, y))\n",
    "\n",
    "    if eval_metric < best_eval_metric:\n",
    "        best_eval_metric = eval_metric\n",
    "        best_model = bst\n",
    "\n",
    "    return eval_metric\n",
    "\n",
    "\n",
    "study = optuna.create_study(direction='minimize', \n",
    "                            storage=\"sqlite:///XGB_Tox_Pred.sqlite3\", \n",
    "                            study_name=f\"Regression{datetime.now().isoformat()}\")\n",
    "study.optimize(objective, n_trials=100)"
   ]
  },
  {
   "cell_type": "code",
   "execution_count": 11,
   "metadata": {},
   "outputs": [
    {
     "data": {
      "text/plain": [
       "0.5860195318510545"
      ]
     },
     "execution_count": 11,
     "metadata": {},
     "output_type": "execute_result"
    },
    {
     "data": {
      "image/png": "[encoded data removed]",
      "text/plain": [
       "<Figure size 600x600 with 3 Axes>"
      ]
     },
     "metadata": {},
     "output_type": "display_data"
    }
   ],
   "source": [
    "bst = best_model\n",
    "y = bst.predict(dtest)\n",
    "sns.jointplot(x=Y_test[\"ld50\"], y=y)\n",
    "\n",
    "from sklearn.metrics import r2_score\n",
    "\n",
    "r2_score(Y_test, y)"
   ]
  },
  {
   "cell_type": "code",
   "execution_count": 10,
   "metadata": {},
   "outputs": [],
   "source": [
    "from datetime import datetime\n",
    "bst.save_model(f\"xgboost_model_{datetime.now().isoformat()}.json\")"
   ]
  }
 ],
 "metadata": {
  "kernelspec": {
   "display_name": "MoLFormer",
   "language": "python",
   "name": "python3"
  },
  "language_info": {
   "codemirror_mode": {
    "name": "ipython",
    "version": 3
   },
   "file_extension": ".py",
   "mimetype": "text/x-python",
   "name": "python",
   "nbconvert_exporter": "python",
   "pygments_lexer": "ipython3",
   "version": "3.8.-1"
  }
 },
 "nbformat": 4,
 "nbformat_minor": 2
}
