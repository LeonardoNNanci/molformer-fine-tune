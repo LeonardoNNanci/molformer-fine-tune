{
 "cells": [
  {
   "cell_type": "code",
   "execution_count": null,
   "metadata": {},
   "outputs": [],
   "source": [
    "import pandas as pd\n",
    "\n",
    "import xgboost as xgb\n",
    "\n",
    "import seaborn as sns\n",
    "\n",
    "import optuna\n",
    "import optuna_integration\n",
    "\n",
    "from sklearn.metrics import mean_squared_error\n",
    "\n",
    "from math import sqrt\n",
    "\n",
    "from datetime import datetime"
   ]
  },
  {
   "cell_type": "markdown",
   "metadata": {},
   "source": [
    "#### Load data"
   ]
  },
  {
   "cell_type": "code",
   "execution_count": null,
   "metadata": {},
   "outputs": [],
   "source": [
    "Y_train = pd.read_csv(\"../../data/ld50/train.csv\")[[\"ld50\"]]\n",
    "Y_test = pd.read_csv(\"../../data/ld50/test.csv\")[[\"ld50\"]]\n",
    "\n",
    "X_train = pd.read_csv(\"train_embeddings.csv\")\n",
    "X_test = pd.read_csv(\"test_embeddings.csv\")\n",
    "\n",
    "Y_test.describe(percentiles=[0.05, 0.5, 0.95]), Y_train.describe(percentiles=[0.05, 0.5, 0.95])"
   ]
  },
  {
   "cell_type": "code",
   "execution_count": null,
   "metadata": {},
   "outputs": [],
   "source": [
    "import numpy as np\n",
    "# train_mask = Y_train < np.percentile(Y_train, 95)\n",
    "# filtered_y_train = Y_train[train_mask]\n",
    "# filtered_x_train = X_train[train_mask]\n",
    "\n",
    "dtrain = xgb.DMatrix(X_train, Y_train)\n",
    "dtest = xgb.DMatrix(X_test, Y_test)"
   ]
  },
  {
   "cell_type": "code",
   "execution_count": null,
   "metadata": {},
   "outputs": [],
   "source": [
    "plot_df = Y_train.join(Y_test, lsuffix=\"_train\", rsuffix=\"_test\")\n",
    "sns.boxplot(plot_df)"
   ]
  },
  {
   "cell_type": "markdown",
   "metadata": {},
   "source": [
    "#### Train"
   ]
  },
  {
   "cell_type": "code",
   "execution_count": null,
   "metadata": {},
   "outputs": [],
   "source": [
    "best_model = None\n",
    "best_eval_metric = float(\"inf\")\n",
    "\n",
    "def objective(trial):\n",
    "    global best_model\n",
    "    global best_eval_metric\n",
    "\n",
    "    num_rounds = 5000\n",
    "    param = {\n",
    "        'verbosity': 0,\n",
    "        'objective': 'reg:squarederror',\n",
    "        'eval_metric': 'rmse',\n",
    "        'max_depth': trial.suggest_int('max_depth', 2, 6), \n",
    "        'learning_rate': trial.suggest_float('learning_rate', 1e-5, 1e-1),\n",
    "        'subsample': 0.9,\n",
    "        'colsample_bytree': 0.5,\n",
    "    }\n",
    "\n",
    "    progress = dict()\n",
    "    evallist = [(dtest, 'test')]\n",
    "    bst = xgb.train(param, dtrain, num_rounds, evals=evallist,\n",
    "                    early_stopping_rounds=trial.suggest_int('early_stop', 10, 100), \n",
    "                    verbose_eval=num_rounds, \n",
    "                    evals_result=progress,\n",
    "                    callbacks=[optuna_integration.XGBoostPruningCallback(trial, 'test-rmse')])\n",
    "\n",
    "    y = bst.predict(dtest)\n",
    "    eval_metric = sqrt(mean_squared_error(Y_test, y))\n",
    "\n",
    "    if eval_metric < best_eval_metric:\n",
    "        best_eval_metric = eval_metric\n",
    "        best_model = bst\n",
    "\n",
    "    return eval_metric\n",
    "\n",
    "\n",
    "study = optuna.create_study(direction='minimize', \n",
    "                            storage=\"sqlite:///XGB_Tox_Pred.sqlite3\", \n",
    "                            study_name=f\"Regression{datetime.now().isoformat()}\")\n",
    "study.optimize(objective, n_trials=100)"
   ]
  },
  {
   "cell_type": "code",
   "execution_count": null,
   "metadata": {},
   "outputs": [],
   "source": [
    "# bst = best_model\n",
    "\n",
    "bst = xgb.XGBRegressor()\n",
    "bst.load_model('xgboost_model_2024-06-17T18:41:09.854815.json')\n",
    "\n",
    "outputs = bst.predict(X_test.values)\n",
    "\n",
    "import matplotlib.pyplot as plt\n",
    "\n",
    "max_val = max(Y_test.values.max(), outputs.max())\n",
    "min_val = min(Y_test.values.min(), outputs.min())\n",
    "plt.plot([[min_val], [max_val]], [[min_val], [max_val]])\n",
    "plt.scatter(Y_test, outputs, color='r')\n",
    "\n",
    "from sklearn.metrics import r2_score, mean_squared_error\n",
    "\n",
    "f\"{r2_score(Y_test, outputs)=} {sqrt(mean_squared_error(Y_test, outputs))=}\""
   ]
  },
  {
   "cell_type": "code",
   "execution_count": null,
   "metadata": {},
   "outputs": [],
   "source": [
    "from datetime import datetime\n",
    "bst.save_model(f\"xgboost_model_{datetime.now().isoformat()}.json\")"
   ]
  }
 ],
 "metadata": {
  "kernelspec": {
   "display_name": "MoLFormer",
   "language": "python",
   "name": "python3"
  },
  "language_info": {
   "codemirror_mode": {
    "name": "ipython",
    "version": 3
   },
   "file_extension": ".py",
   "mimetype": "text/x-python",
   "name": "python",
   "nbconvert_exporter": "python",
   "pygments_lexer": "ipython3",
   "version": "3.8.undefined"
  }
 },
 "nbformat": 4,
 "nbformat_minor": 2
}
